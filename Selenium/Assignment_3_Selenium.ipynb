{
 "cells": [
  {
   "cell_type": "code",
   "execution_count": 59,
   "id": "42937739",
   "metadata": {},
   "outputs": [],
   "source": [
    "import selenium\n",
    "\n",
    "import pandas as pd\n",
    "\n",
    "from selenium import webdriver\n",
    "\n",
    "import warnings\n",
    "warnings.filterwarnings('ignore')\n",
    "\n",
    "from selenium.webdriver.common.by import By\n",
    "import time\n",
    "\n",
    "import requests\n",
    "\n",
    "from selenium.common.exceptions import NoSuchElementException"
   ]
  },
  {
   "cell_type": "code",
   "execution_count": null,
   "id": "0e6b4daa",
   "metadata": {},
   "outputs": [],
   "source": [
    "##Q1:Write a python program which searches all the product under a particular product from www.amazon.in. The \n",
    "product to be searched will be taken as input from user. For e.g. If user input is ‘guitar’. Then search for \n",
    "guitars. "
   ]
  },
  {
   "cell_type": "code",
   "execution_count": 2,
   "id": "3e775da5",
   "metadata": {},
   "outputs": [
    {
     "name": "stdout",
     "output_type": "stream",
     "text": [
      "Enter the item :  guiter\n"
     ]
    }
   ],
   "source": [
    "item = input('Enter the item :  ')"
   ]
  },
  {
   "cell_type": "code",
   "execution_count": null,
   "id": "bd6ac055",
   "metadata": {},
   "outputs": [],
   "source": [
    "##Q2:In the above question, now scrape the following details of each product listed in first 3 pages of your search \n",
    "results and save it in a data frame and csv. In case if any product has less than 3 pages in search results then \n",
    "scrape all the products available under that product name. Details to be scraped are: \"Brand \n",
    "Name\", \"Name of the Product\", \"Price\", \"Return/Exchange\", \"Expected Delivery\", \"Availability\" and \n",
    "“Product URL”. In case, if any of the details are missing for any of the product then replace it by “-“."
   ]
  },
  {
   "cell_type": "code",
   "execution_count": 43,
   "id": "1adb8a5f",
   "metadata": {},
   "outputs": [],
   "source": [
    "driver = webdriver.Chrome()\n",
    "driver.get(\"https://www.amazon.in/\")"
   ]
  },
  {
   "cell_type": "code",
   "execution_count": 44,
   "id": "ca113b38",
   "metadata": {},
   "outputs": [],
   "source": [
    "guiters = driver.find_element(By.XPATH,'//div[@class=\"nav-search-field \"]//input')\n",
    "guiters.send_keys('guiter')\n",
    "search=driver.find_element(By.XPATH,'//div[@class=\"nav-search-submit nav-sprite\"]//span')\n",
    "search.click()\n",
    "time.sleep(3)"
   ]
  },
  {
   "cell_type": "code",
   "execution_count": 46,
   "id": "ed78cd1d",
   "metadata": {},
   "outputs": [],
   "source": [
    "product_url=[]\n",
    "start =0\n",
    "end =2\n",
    "for page in range (start,end):\n",
    "    url=driver.find_elements(By.XPATH,'//a[@class=\"a-link-normal s-underline-text s-underline-link-text s-link-style a-text-normal\"]')\n",
    "    for i in url:\n",
    "        product_url.append(i.get_attribute('href'))\n",
    "    next_button=driver.find_element(By.XPATH,'//a[@class=\"s-pagination-item s-pagination-next s-pagination-button s-pagination-separator\"]')\n",
    "    next_button.click()\n",
    "    time.sleep(2)"
   ]
  },
  {
   "cell_type": "code",
   "execution_count": 47,
   "id": "c374c8cc",
   "metadata": {},
   "outputs": [
    {
     "data": {
      "text/plain": [
       "106"
      ]
     },
     "execution_count": 47,
     "metadata": {},
     "output_type": "execute_result"
    }
   ],
   "source": [
    "len(product_url)"
   ]
  },
  {
   "cell_type": "code",
   "execution_count": 48,
   "id": "bcf49d77",
   "metadata": {},
   "outputs": [],
   "source": [
    "brand_name=[]\n",
    "product_name=[]\n",
    "price=[]\n",
    "return_exchange=[]\n",
    "expected_delivery=[]\n",
    "availability=[]"
   ]
  },
  {
   "cell_type": "code",
   "execution_count": 49,
   "id": "09fd2e74",
   "metadata": {},
   "outputs": [],
   "source": [
    "for url in product_url:\n",
    "    driver.get(url)\n",
    "    time.sleep(2)\n",
    "    \n",
    "    try:\n",
    "        brand=driver.find_element(By.XPATH,'/html/body/div[2]/div/div[5]/div[3]/div[4]/div[49]/div/table/tbody/tr[1]/td[2]/span')\n",
    "        brand_name.append(brand.text)\n",
    "    except NoSuchElementException:\n",
    "        brand_name.append('-')\n",
    "    \n",
    "    try:\n",
    "        product= driver.find_element(By.XPATH,'//span[@class=\"a-size-large product-title-word-break\"]')\n",
    "        product_name.append(product.text)\n",
    "    except NoSuchElementException:\n",
    "        product_name.append('-')\n",
    "    try:\n",
    "        prices=driver.find_element(By.XPATH,'//span[@class=\"a-price-whole\"]')\n",
    "        price.append(prices.text)\n",
    "    except NoSuchElementException:\n",
    "        price.append('-')\n",
    "    try:\n",
    "        return_ex= driver.find_element(By.XPATH,'/html/body/div[2]/div/div[5]/div[3]/div[4]/div[25]/div[2]/div/div/div/div[2]/div/ol/li[3]/div/span/div[2]/span')\n",
    "        return_exchange.append(return_ex.text)\n",
    "    except NoSuchElementException:\n",
    "        return_exchange.append('-')\n",
    "    try:\n",
    "        delivery = driver.find_element(By.XPATH,'//span[@class=\"a-text-bold\"]')\n",
    "        expected_delivery.append(delivery.text)\n",
    "    except NoSuchElementException: \n",
    "        expected_delivery.append('-')\n",
    "    try:\n",
    "        item_availability= driver.find_element(By.XPATH,'//span[@class=\"a-size-medium a-color-success\"]')\n",
    "        availability.append(item_availability.text)\n",
    "    except NoSuchElementException:\n",
    "        availability.append('-')  "
   ]
  },
  {
   "cell_type": "code",
   "execution_count": 56,
   "id": "7d05cb3c",
   "metadata": {},
   "outputs": [
    {
     "data": {
      "text/plain": [
       "106"
      ]
     },
     "execution_count": 56,
     "metadata": {},
     "output_type": "execute_result"
    }
   ],
   "source": [
    "len(brand_name)"
   ]
  },
  {
   "cell_type": "code",
   "execution_count": null,
   "id": "1ef3cfee",
   "metadata": {},
   "outputs": [],
   "source": [
    "guiter_data= pd.DataFrame({'Brand':brand_name,\n",
    "                            'Product_name':product_name,\n",
    "                            'Price':price,\n",
    "                             'Return_Exchange':return_exchange,\n",
    "                             'Expected_Delivery':expected_delivery,\n",
    "                              'Item_Availability':availability,\n",
    "                              'Product_url':product_url})"
   ]
  },
  {
   "cell_type": "code",
   "execution_count": null,
   "id": "efb5fb24",
   "metadata": {},
   "outputs": [],
   "source": [
    "guiter_data.to_csv('guiterdata.csv')"
   ]
  },
  {
   "cell_type": "code",
   "execution_count": 61,
   "id": "fe731a58",
   "metadata": {},
   "outputs": [
    {
     "data": {
      "text/html": [
       "<div>\n",
       "<style scoped>\n",
       "    .dataframe tbody tr th:only-of-type {\n",
       "        vertical-align: middle;\n",
       "    }\n",
       "\n",
       "    .dataframe tbody tr th {\n",
       "        vertical-align: top;\n",
       "    }\n",
       "\n",
       "    .dataframe thead th {\n",
       "        text-align: right;\n",
       "    }\n",
       "</style>\n",
       "<table border=\"1\" class=\"dataframe\">\n",
       "  <thead>\n",
       "    <tr style=\"text-align: right;\">\n",
       "      <th></th>\n",
       "      <th>Unnamed: 0</th>\n",
       "      <th>Brand</th>\n",
       "      <th>Product_name</th>\n",
       "      <th>Price</th>\n",
       "      <th>Return_Exchange</th>\n",
       "      <th>Expected_Delivery</th>\n",
       "      <th>Item_Availability</th>\n",
       "      <th>Product_url</th>\n",
       "    </tr>\n",
       "  </thead>\n",
       "  <tbody>\n",
       "    <tr>\n",
       "      <th>0</th>\n",
       "      <td>0</td>\n",
       "      <td>Henrix</td>\n",
       "      <td>Henrix 38C 38 Inch Cutaway Acoustic Guitar Wit...</td>\n",
       "      <td>3,099</td>\n",
       "      <td>7 days Replacement</td>\n",
       "      <td>Wednesday, 26 June</td>\n",
       "      <td>In stock</td>\n",
       "      <td>https://www.amazon.in/sspa/click?ie=UTF8&amp;spc=M...</td>\n",
       "    </tr>\n",
       "    <tr>\n",
       "      <th>1</th>\n",
       "      <td>1</td>\n",
       "      <td>-</td>\n",
       "      <td>INTERN 41 inches Acoustic Guitar with truss ro...</td>\n",
       "      <td>4,309</td>\n",
       "      <td>-</td>\n",
       "      <td>Saturday, 29 June</td>\n",
       "      <td>-</td>\n",
       "      <td>https://www.amazon.in/sspa/click?ie=UTF8&amp;spc=M...</td>\n",
       "    </tr>\n",
       "    <tr>\n",
       "      <th>2</th>\n",
       "      <td>2</td>\n",
       "      <td>-</td>\n",
       "      <td>INTERN 40 inches Acoustic Guitar with Pick-up ...</td>\n",
       "      <td>4,499</td>\n",
       "      <td>-</td>\n",
       "      <td>Wednesday, 26 June</td>\n",
       "      <td>In stock</td>\n",
       "      <td>https://www.amazon.in/sspa/click?ie=UTF8&amp;spc=M...</td>\n",
       "    </tr>\n",
       "    <tr>\n",
       "      <th>3</th>\n",
       "      <td>3</td>\n",
       "      <td>-</td>\n",
       "      <td>AmericanElm Wooden Guitar Shape for Crafts and...</td>\n",
       "      <td>189</td>\n",
       "      <td>-</td>\n",
       "      <td>Monday, 1 July</td>\n",
       "      <td>In stock</td>\n",
       "      <td>https://www.amazon.in/sspa/click?ie=UTF8&amp;spc=M...</td>\n",
       "    </tr>\n",
       "    <tr>\n",
       "      <th>4</th>\n",
       "      <td>4</td>\n",
       "      <td>blueberry</td>\n",
       "      <td>BLUEBERRY B-38C, Acoustic Guitar Kit with Bag,...</td>\n",
       "      <td>2,291</td>\n",
       "      <td>7 days Replacement</td>\n",
       "      <td>Sunday, 30 June</td>\n",
       "      <td>In stock</td>\n",
       "      <td>https://www.amazon.in/Blueberry-38C-Acoustic-G...</td>\n",
       "    </tr>\n",
       "  </tbody>\n",
       "</table>\n",
       "</div>"
      ],
      "text/plain": [
       "   Unnamed: 0      Brand                                       Product_name  \\\n",
       "0           0     Henrix  Henrix 38C 38 Inch Cutaway Acoustic Guitar Wit...   \n",
       "1           1          -  INTERN 41 inches Acoustic Guitar with truss ro...   \n",
       "2           2          -  INTERN 40 inches Acoustic Guitar with Pick-up ...   \n",
       "3           3          -  AmericanElm Wooden Guitar Shape for Crafts and...   \n",
       "4           4  blueberry  BLUEBERRY B-38C, Acoustic Guitar Kit with Bag,...   \n",
       "\n",
       "   Price     Return_Exchange   Expected_Delivery Item_Availability  \\\n",
       "0  3,099  7 days Replacement  Wednesday, 26 June          In stock   \n",
       "1  4,309                   -   Saturday, 29 June                 -   \n",
       "2  4,499                   -  Wednesday, 26 June          In stock   \n",
       "3    189                   -      Monday, 1 July          In stock   \n",
       "4  2,291  7 days Replacement     Sunday, 30 June          In stock   \n",
       "\n",
       "                                         Product_url  \n",
       "0  https://www.amazon.in/sspa/click?ie=UTF8&spc=M...  \n",
       "1  https://www.amazon.in/sspa/click?ie=UTF8&spc=M...  \n",
       "2  https://www.amazon.in/sspa/click?ie=UTF8&spc=M...  \n",
       "3  https://www.amazon.in/sspa/click?ie=UTF8&spc=M...  \n",
       "4  https://www.amazon.in/Blueberry-38C-Acoustic-G...  "
      ]
     },
     "execution_count": 61,
     "metadata": {},
     "output_type": "execute_result"
    }
   ],
   "source": [
    "df = pd.read_csv('guiterdata.csv')\n",
    "df.head()"
   ]
  },
  {
   "cell_type": "code",
   "execution_count": null,
   "id": "92355b12",
   "metadata": {},
   "outputs": [],
   "source": [
    "##q3:Write a python program to access the search bar and search button on images.google.com and scrape 10 \n",
    "images each for keywords ‘fruits’, ‘cars’ and ‘Machine Learning’, ‘Guitar’, ‘Cakes’."
   ]
  },
  {
   "cell_type": "code",
   "execution_count": 40,
   "id": "406cb84f",
   "metadata": {},
   "outputs": [],
   "source": [
    "driver = webdriver.Chrome()\n",
    "driver.get(\"https://images.google.com/\")"
   ]
  },
  {
   "cell_type": "code",
   "execution_count": 38,
   "id": "38cedb87",
   "metadata": {},
   "outputs": [],
   "source": [
    "## for cake\n",
    "\n",
    "cake = driver.find_element(By.XPATH,'/html/body/div[1]/div[3]/form/div[1]/div[1]/div[1]/div/div[2]/textarea')\n",
    "cake.send_keys('cake')\n",
    "search=driver.find_element(By.XPATH,'//span[@class=\"z1asCe MZy1Rb\"]')\n",
    "search.click()\n",
    "time.sleep(3)"
   ]
  },
  {
   "cell_type": "code",
   "execution_count": 34,
   "id": "5fcfe4b2",
   "metadata": {},
   "outputs": [
    {
     "ename": "SyntaxError",
     "evalue": "(unicode error) 'unicodeescape' codec can't decode bytes in position 2-3: truncated \\UXXXXXXXX escape (2913932024.py, line 17)",
     "output_type": "error",
     "traceback": [
      "\u001b[1;36m  Cell \u001b[1;32mIn[34], line 17\u001b[1;36m\u001b[0m\n\u001b[1;33m    file = open(f\"C:\\Users\\Dipjyoti\\Downloads\\Car Images\"+str{i}+\".jpg\",\"wb\")\u001b[0m\n\u001b[1;37m                                                         ^\u001b[0m\n\u001b[1;31mSyntaxError\u001b[0m\u001b[1;31m:\u001b[0m (unicode error) 'unicodeescape' codec can't decode bytes in position 2-3: truncated \\UXXXXXXXX escape\n"
     ]
    }
   ],
   "source": [
    "for _ in range(20):\n",
    "    driver.execute_script('window.scrollBy(0,400)')\n",
    "\n",
    "image_urls =[]\n",
    "images = driver.find_elements(By.XPATH,'//div[@class=\"H8Rx8c\"]//img')\n",
    "for image in images:\n",
    "    source = image.get_attribute('src')\n",
    "    if source is not None:\n",
    "        if (source[0:4]=='http'):\n",
    "            image_urls.append(source)\n",
    "            \n",
    "for i in range (len(image_urls)):\n",
    "    if i >10:\n",
    "        breakBy.XPATH,\n",
    "    print(\"Downloading {0} of {1} images\" .format(i,10))\n",
    "    response = requests.get(image_urls[i])\n",
    "    file = open(f\"C:\\Users\\Dipjyoti\\Downloads\\Car Images\"+str{i}+\".jpg\",\"wb\")\n",
    "    file.write(response.content)\n",
    " "
   ]
  },
  {
   "cell_type": "code",
   "execution_count": 41,
   "id": "80f22edf",
   "metadata": {},
   "outputs": [],
   "source": [
    "##for cars\n",
    "\n",
    "cars = driver.find_element(By.XPATH,'/html/body/div[1]/div[3]/form/div[1]/div[1]/div[1]/div/div[2]/textarea')\n",
    "cars.send_keys('cars')\n",
    "search=driver.find_element(By.XPATH,'//span[@class=\"z1asCe MZy1Rb\"]')\n",
    "search.click()\n",
    "time.sleep(3)"
   ]
  },
  {
   "cell_type": "code",
   "execution_count": 42,
   "id": "7189773f",
   "metadata": {},
   "outputs": [],
   "source": [
    "##for CAR images\n",
    "\n",
    "image_urls = []\n",
    "\n",
    "images = driver.find_elements(By.XPATH,'//img[@class=\"YQ4gaf\"]')\n",
    "\n",
    "for image in images:\n",
    "\n",
    "    source = image.get_attribute('src')\n",
    "\n",
    "    if source is None:\n",
    "\n",
    "        source = image.get_attribute('data-src')\n",
    "\n",
    "    if source and source.startswith('http'):\n",
    "\n",
    "        image_urls.append(source)\n",
    "\n",
    "\n",
    "\n",
    "for i in range(len(image_urls)):\n",
    "\n",
    "    if i >= 10:\n",
    "\n",
    "        break\n",
    "\n",
    "    print(f\"Downloading {i+1} of {10} images\")\n",
    "\n",
    "    response = requests.get(image_urls[i])\n",
    "\n",
    "    file = open(f\"C:/Users/Diptyoti/Downloads/car_images_{i+1}.jpg\", \"wb\")\n",
    "\n",
    "    file.write(response.content)"
   ]
  },
  {
   "cell_type": "code",
   "execution_count": null,
   "id": "7a4fc422",
   "metadata": {},
   "outputs": [],
   "source": [
    "##Q4: Write a python program to search for a smartphone(e.g.: Oneplus Nord, pixel 4A, etc.) on www.flipkart.com\n",
    "and scrape following details for all the search results displayed on 1st page. Details to be scraped: “Brand \n",
    "Name”, “Smartphone name”, “Colour”, “RAM”, “Storage(ROM)”, “Primary Camera”, \n",
    "“Secondary Camera”, “Display Size”, “Battery Capacity”, “Price”, “Product URL”. Incase if any of the \n",
    "details is missing then replace it by “- “. Save your results in a dataframe and CSV. "
   ]
  },
  {
   "cell_type": "code",
   "execution_count": 59,
   "id": "a82bbcb2",
   "metadata": {},
   "outputs": [],
   "source": [
    "driver = webdriver.Chrome()\n",
    "driver.get(\"https://www.flipkart.com/\")"
   ]
  },
  {
   "cell_type": "code",
   "execution_count": null,
   "id": "104e22e9",
   "metadata": {},
   "outputs": [],
   "source": [
    "mobile = driver.find_element(By.XPATH,'//input[@class=\"Pke_EE\"]')\n",
    "mobile.send_keys('oneplus nord ce4')\n",
    "search=driver.find_element(By.XPATH,'/html/body/div[1]/div/div[1]/div/div/div/div/div[1]/div/div[1]/div/div[1]/div[1]/header/div[1]/div[2]/form/div/button/svg')\n",
    "search.click()\n",
    "time.sleep(3)"
   ]
  },
  {
   "cell_type": "code",
   "execution_count": 62,
   "id": "e02b0877",
   "metadata": {},
   "outputs": [],
   "source": [
    "product_url=[]\n",
    "url=driver.find_elements(By.XPATH,'//a[@class=\"CGtC98\"]')\n",
    "for i in url:\n",
    "    product_url.append(i.get_attribute('href'))\n",
    "time.sleep(2)"
   ]
  },
  {
   "cell_type": "code",
   "execution_count": 51,
   "id": "cf22ea4d",
   "metadata": {},
   "outputs": [
    {
     "data": {
      "text/plain": [
       "24"
      ]
     },
     "execution_count": 51,
     "metadata": {},
     "output_type": "execute_result"
    }
   ],
   "source": [
    "len(product_url)"
   ]
  },
  {
   "cell_type": "code",
   "execution_count": 63,
   "id": "6a037f32",
   "metadata": {},
   "outputs": [],
   "source": [
    "smartphone_name=[]\n",
    "colour =[]\n",
    "ram =[]\n",
    "storage=[]\n",
    "camera=[]\n",
    "display_size=[]\n",
    "battery=[]\n",
    "price=[]"
   ]
  },
  {
   "cell_type": "code",
   "execution_count": 65,
   "id": "3ed82da1",
   "metadata": {},
   "outputs": [],
   "source": [
    "for url in product_url:\n",
    "    driver.get(url)\n",
    "    read_more= driver.find_element(By.XPATH,'//button[@class=\"QqFHMw _4FgsLt\"]')\n",
    "    read_more.click()\n",
    "    time.sleep(2)\n",
    "    \n",
    "    try:\n",
    "        phone=driver.find_element(By.XPATH,'/html/body/div[1]/div/div[3]/div[1]/div[2]/div[8]/div[4]/div/div[2]/div/div[1]/table/tbody/tr[3]/td[2]')\n",
    "        smartphone_name.append(phone.text)\n",
    "    except NoSuchElementException:\n",
    "        smartphone_name.append('-')\n",
    "        \n",
    "    try:\n",
    "        colours=driver.find_element(By.XPATH,'/html/body/div[1]/div/div[3]/div[1]/div[2]/div[8]/div[4]/div/div[2]/div/div[1]/table/tbody/tr[4]')\n",
    "        colour.append(colours.text)\n",
    "    except NoSuchElementException:\n",
    "        colour.append('-')\n",
    "        \n",
    "    try:\n",
    "        rams=driver.find_element(By.XPATH,'/html/body/div[1]/div/div[3]/div[1]/div[2]/div[7]/div[1]/div/div[2]/ul/li[1]')\n",
    "        ram.append(rams.text)\n",
    "    except NoSuchElementException:\n",
    "        ram.append('-')\n",
    "    try:\n",
    "        ph_storage=driver.find_element(By.XPATH,'/html/body/div[1]/div/div[3]/div[1]/div[2]/div[8]/div[4]/div/div[2]/div[1]/div[4]/table/tbody/tr[1]/td[2]/ul/li')\n",
    "        storage.append(ph_storage.text)\n",
    "    except NoSuchElementException:\n",
    "        storage.append('-')\n",
    "    try:\n",
    "        cameras=driver.find_element(By.XPATH,'/html/body/div[1]/div/div[3]/div[1]/div[2]/div[8]/div[4]/div/div[2]/div[1]/div[5]/table/tbody/tr[2]')\n",
    "        camera.append(cameras.text)\n",
    "    except NoSuchElementException:\n",
    "        camera.append('-')\n",
    "    try:\n",
    "        dis=driver.find_element(By.XPATH,'/html/body/div[1]/div/div[3]/div[1]/div[2]/div[8]/div[4]/div/div[2]/div[1]/div[2]/table/tbody/tr[1]/td[2]/ul/li')\n",
    "        display_size.append(dis.text)\n",
    "    except NoSuchElementException:\n",
    "        display_size.append('-')\n",
    "    try:\n",
    "        bat=driver.find_element(By.XPATH,'/html/body/div[1]/div/div[3]/div[1]/div[2]/div[8]/div[4]/div/div[2]/div[1]/div[9]/table/tbody/tr[1]/td[2]')\n",
    "        battery.append(bat.text)\n",
    "    except NoSuchElementException:\n",
    "        battery.append('-')\n",
    "        \n",
    "    try:\n",
    "        pr=driver.find_element(By.XPATH,'/html/body/div[1]/div/div[3]/div[1]/div[2]/div[2]/div/div[3]/div[1]/div/div[1]')\n",
    "        price.append(pr.text)\n",
    "    except NoSuchElementException:\n",
    "        price.append('-')\n",
    "        \n",
    "    \n",
    "    "
   ]
  },
  {
   "cell_type": "code",
   "execution_count": 55,
   "id": "c1416af8",
   "metadata": {},
   "outputs": [
    {
     "data": {
      "text/plain": [
       "24"
      ]
     },
     "execution_count": 55,
     "metadata": {},
     "output_type": "execute_result"
    }
   ],
   "source": [
    "len(battery)"
   ]
  },
  {
   "cell_type": "code",
   "execution_count": 66,
   "id": "7c657c0c",
   "metadata": {},
   "outputs": [],
   "source": [
    "mobile_data= pd.DataFrame({'Smartphone_Name':smartphone_name,\n",
    "                            'Colour':colour,\n",
    "                             'Ram':ram,\n",
    "                              'Storage':storage,\n",
    "                             'Camera':camera,\n",
    "                             'Display_size':display_size,\n",
    "                             'Battery':battery,\n",
    "                             'Price':price,\n",
    "                             'Product_url':product_url})"
   ]
  },
  {
   "cell_type": "code",
   "execution_count": 68,
   "id": "9f09e471",
   "metadata": {},
   "outputs": [
    {
     "data": {
      "text/html": [
       "<div>\n",
       "<style scoped>\n",
       "    .dataframe tbody tr th:only-of-type {\n",
       "        vertical-align: middle;\n",
       "    }\n",
       "\n",
       "    .dataframe tbody tr th {\n",
       "        vertical-align: top;\n",
       "    }\n",
       "\n",
       "    .dataframe thead th {\n",
       "        text-align: right;\n",
       "    }\n",
       "</style>\n",
       "<table border=\"1\" class=\"dataframe\">\n",
       "  <thead>\n",
       "    <tr style=\"text-align: right;\">\n",
       "      <th></th>\n",
       "      <th>Unnamed: 0</th>\n",
       "      <th>Smartphone_Name</th>\n",
       "      <th>Colour</th>\n",
       "      <th>Ram</th>\n",
       "      <th>Storage</th>\n",
       "      <th>Camera</th>\n",
       "      <th>Display_size</th>\n",
       "      <th>Battery</th>\n",
       "      <th>Price</th>\n",
       "      <th>Product_url</th>\n",
       "    </tr>\n",
       "  </thead>\n",
       "  <tbody>\n",
       "    <tr>\n",
       "      <th>0</th>\n",
       "      <td>0</td>\n",
       "      <td>Nord CE4</td>\n",
       "      <td>Color\\nDark Chrome</td>\n",
       "      <td>8 GB RAM | 256 GB ROM</td>\n",
       "      <td>256 GB</td>\n",
       "      <td>Primary Camera\\n50MP Rear Camera</td>\n",
       "      <td>17.02 cm (6.7 inch)</td>\n",
       "      <td>5500 mAh</td>\n",
       "      <td>-</td>\n",
       "      <td>https://www.flipkart.com/oneplus-nord-ce4-dark...</td>\n",
       "    </tr>\n",
       "    <tr>\n",
       "      <th>1</th>\n",
       "      <td>1</td>\n",
       "      <td>Nord CE4</td>\n",
       "      <td>Color\\nCeladon Marble</td>\n",
       "      <td>8 GB RAM | 256 GB ROM</td>\n",
       "      <td>256 GB</td>\n",
       "      <td>Primary Camera\\n50MP Rear Camera</td>\n",
       "      <td>17.02 cm (6.7 inch)</td>\n",
       "      <td>5500 mAh</td>\n",
       "      <td>₹26,976</td>\n",
       "      <td>https://www.flipkart.com/oneplus-nord-ce4-cela...</td>\n",
       "    </tr>\n",
       "    <tr>\n",
       "      <th>2</th>\n",
       "      <td>2</td>\n",
       "      <td>Nord CE4</td>\n",
       "      <td>Color\\nCeladon Marble</td>\n",
       "      <td>8 GB RAM | 128 GB ROM</td>\n",
       "      <td>128 GB</td>\n",
       "      <td>Primary Camera\\n50MP Rear Camera</td>\n",
       "      <td>17.02 cm (6.7 inch)</td>\n",
       "      <td>5500 mAh</td>\n",
       "      <td>-</td>\n",
       "      <td>https://www.flipkart.com/oneplus-nord-ce4-cela...</td>\n",
       "    </tr>\n",
       "    <tr>\n",
       "      <th>3</th>\n",
       "      <td>3</td>\n",
       "      <td>Nord CE4</td>\n",
       "      <td>Color\\nDark Chrome</td>\n",
       "      <td>8 GB RAM | 128 GB ROM</td>\n",
       "      <td>128 GB</td>\n",
       "      <td>Primary Camera\\n50MP Rear Camera</td>\n",
       "      <td>17.02 cm (6.7 inch)</td>\n",
       "      <td>5500 mAh</td>\n",
       "      <td>-</td>\n",
       "      <td>https://www.flipkart.com/oneplus-nord-ce4-dark...</td>\n",
       "    </tr>\n",
       "    <tr>\n",
       "      <th>4</th>\n",
       "      <td>4</td>\n",
       "      <td>-</td>\n",
       "      <td>-</td>\n",
       "      <td>6 GB RAM | 128 GB ROM</td>\n",
       "      <td>-</td>\n",
       "      <td>-</td>\n",
       "      <td>-</td>\n",
       "      <td>-</td>\n",
       "      <td>-</td>\n",
       "      <td>https://www.flipkart.com/oneplus-nord-ce-2-5g-...</td>\n",
       "    </tr>\n",
       "  </tbody>\n",
       "</table>\n",
       "</div>"
      ],
      "text/plain": [
       "   Unnamed: 0 Smartphone_Name                 Colour                    Ram  \\\n",
       "0           0        Nord CE4     Color\\nDark Chrome  8 GB RAM | 256 GB ROM   \n",
       "1           1        Nord CE4  Color\\nCeladon Marble  8 GB RAM | 256 GB ROM   \n",
       "2           2        Nord CE4  Color\\nCeladon Marble  8 GB RAM | 128 GB ROM   \n",
       "3           3        Nord CE4     Color\\nDark Chrome  8 GB RAM | 128 GB ROM   \n",
       "4           4               -                      -  6 GB RAM | 128 GB ROM   \n",
       "\n",
       "  Storage                            Camera         Display_size   Battery  \\\n",
       "0  256 GB  Primary Camera\\n50MP Rear Camera  17.02 cm (6.7 inch)  5500 mAh   \n",
       "1  256 GB  Primary Camera\\n50MP Rear Camera  17.02 cm (6.7 inch)  5500 mAh   \n",
       "2  128 GB  Primary Camera\\n50MP Rear Camera  17.02 cm (6.7 inch)  5500 mAh   \n",
       "3  128 GB  Primary Camera\\n50MP Rear Camera  17.02 cm (6.7 inch)  5500 mAh   \n",
       "4       -                                 -                    -         -   \n",
       "\n",
       "     Price                                        Product_url  \n",
       "0        -  https://www.flipkart.com/oneplus-nord-ce4-dark...  \n",
       "1  ₹26,976  https://www.flipkart.com/oneplus-nord-ce4-cela...  \n",
       "2        -  https://www.flipkart.com/oneplus-nord-ce4-cela...  \n",
       "3        -  https://www.flipkart.com/oneplus-nord-ce4-dark...  \n",
       "4        -  https://www.flipkart.com/oneplus-nord-ce-2-5g-...  "
      ]
     },
     "execution_count": 68,
     "metadata": {},
     "output_type": "execute_result"
    }
   ],
   "source": [
    "mobile_data.to_csv('mobile_data.csv')\n",
    "df_mobile = pd.read_csv('mobile_data.csv')\n",
    "\n",
    "df_mobile.head()"
   ]
  },
  {
   "cell_type": "code",
   "execution_count": null,
   "id": "56c131f7",
   "metadata": {},
   "outputs": [],
   "source": [
    "##Q5:Write a program to scrap geospatial coordinates (latitude, longitude) of a city searched on google maps. "
   ]
  },
  {
   "cell_type": "code",
   "execution_count": 44,
   "id": "d4affa78",
   "metadata": {},
   "outputs": [],
   "source": [
    "driver = webdriver.Chrome()\n",
    "driver.get(\"https://www.google.com/maps/\")"
   ]
  },
  {
   "cell_type": "code",
   "execution_count": 46,
   "id": "fe0bdba2",
   "metadata": {},
   "outputs": [],
   "source": [
    "loc = driver.find_element(By.XPATH,'//input[@class=\"fontBodyMedium searchboxinput xiQnY \"]')\n",
    "loc.send_keys('Bengaluru')\n",
    "search=driver.find_element(By.XPATH,'//div[@class=\"pzfvzf\"]//span')\n",
    "search.click()\n",
    "time.sleep(3)"
   ]
  },
  {
   "cell_type": "code",
   "execution_count": 47,
   "id": "e23d4c70",
   "metadata": {},
   "outputs": [],
   "source": [
    "import re"
   ]
  },
  {
   "cell_type": "code",
   "execution_count": 49,
   "id": "2370d05c",
   "metadata": {},
   "outputs": [
    {
     "ename": "SyntaxError",
     "evalue": "incomplete input (3688228666.py, line 4)",
     "output_type": "error",
     "traceback": [
      "\u001b[1;36m  Cell \u001b[1;32mIn[49], line 4\u001b[1;36m\u001b[0m\n\u001b[1;33m    lat_long= re.findall(r'@(.*)data',url_string)\u001b[0m\n\u001b[1;37m                                                 ^\u001b[0m\n\u001b[1;31mSyntaxError\u001b[0m\u001b[1;31m:\u001b[0m incomplete input\n"
     ]
    }
   ],
   "source": [
    "try:\n",
    "    url_string =driver.current_url\n",
    "    print(\"url extracted:\",url_string)\n",
    "    lat_long= re.findall(r'@(.*)data',url_string)\n"
   ]
  },
  {
   "cell_type": "code",
   "execution_count": null,
   "id": "ee8008d0",
   "metadata": {},
   "outputs": [],
   "source": []
  },
  {
   "cell_type": "code",
   "execution_count": null,
   "id": "dd97bfed",
   "metadata": {},
   "outputs": [],
   "source": [
    "##Q6:Write a program to scrap all the available details of best gaming laptops from digit.in."
   ]
  },
  {
   "cell_type": "code",
   "execution_count": 19,
   "id": "55123622",
   "metadata": {},
   "outputs": [],
   "source": [
    "driver = webdriver.Chrome()\n",
    "driver.get('https://www.digit.in/')"
   ]
  },
  {
   "cell_type": "code",
   "execution_count": 20,
   "id": "dffc7bd4",
   "metadata": {},
   "outputs": [],
   "source": [
    "laptops = driver.find_element(By.XPATH,'//input[@class=\"re-ajax-search\"]')\n",
    "laptops.send_keys('Gaming laptops')\n",
    "search= driver.find_element(By.XPATH,'//i[@class=\"rhicon rhi-search\"]')\n",
    "search.click()\n",
    "time.sleep(3)"
   ]
  },
  {
   "cell_type": "code",
   "execution_count": 21,
   "id": "da2490bf",
   "metadata": {},
   "outputs": [],
   "source": [
    "product_url=[]\n",
    "url=driver.find_elements(By.XPATH,'//h3[@class=\" text-clamp text-clamp-2\"]/a')\n",
    "for i in url:\n",
    "    product_url.append(i.get_attribute('href'))\n",
    "time.sleep(2)"
   ]
  },
  {
   "cell_type": "code",
   "execution_count": 22,
   "id": "d99f33d5",
   "metadata": {},
   "outputs": [
    {
     "data": {
      "text/plain": [
       "6"
      ]
     },
     "execution_count": 22,
     "metadata": {},
     "output_type": "execute_result"
    }
   ],
   "source": [
    "len(product_url)"
   ]
  },
  {
   "cell_type": "code",
   "execution_count": 23,
   "id": "bc4d542a",
   "metadata": {},
   "outputs": [],
   "source": [
    "product_name=[]\n",
    "rating=[]\n",
    "description=[]\n",
    "pros =[]\n",
    "cons=[]"
   ]
  },
  {
   "cell_type": "code",
   "execution_count": 24,
   "id": "99d5d4be",
   "metadata": {},
   "outputs": [],
   "source": [
    "for url in product_url:\n",
    "    driver.get(url)\n",
    "    time.sleep(2)\n",
    "    \n",
    "    try:\n",
    "        ratings=driver.find_element(By.XPATH,'//span[@class=\"rating_no greentext\"]')\n",
    "        rating.append(ratings.text)\n",
    "    except NoSuchElementException:\n",
    "        rating.append('-')\n",
    "    try:\n",
    "        des=driver.find_element(By.XPATH,'//div[@class=\"review-text\"]')\n",
    "        description.append(des.text)\n",
    "    except NoSuchElementException:\n",
    "        description.append('-')\n",
    "    try:\n",
    "        pro=driver.find_element(By.XPATH,'//div[@class=\"wpsm-one-half wpsm-column-first\"]')\n",
    "        pros.append(pro.text)\n",
    "    except NoSuchElementException:\n",
    "        pros.append('-')   \n",
    "    try:\n",
    "        con=driver.find_element(By.XPATH,'//div[@class=\"wpsm-one-half wpsm-column-last\"]')\n",
    "        cons.append(con.text)\n",
    "    except NoSuchElementException:\n",
    "        cons.append('-')  "
   ]
  },
  {
   "cell_type": "code",
   "execution_count": 28,
   "id": "328069f7",
   "metadata": {},
   "outputs": [],
   "source": [
    "name=driver.find_elements(By.XPATH,'//h3[@class=\" text-clamp text-clamp-2\"]')\n",
    "\n",
    "for i in name:\n",
    "    name= i.text\n",
    "    product_name.append(name)"
   ]
  },
  {
   "cell_type": "code",
   "execution_count": 29,
   "id": "f8c9880b",
   "metadata": {},
   "outputs": [
    {
     "data": {
      "text/plain": [
       "['Lenovo IdeaPad Gaming 3 15IAH7',\n",
       " 'Lenovo IdeaPad Gaming 3i',\n",
       " 'Alienware x14 Gaming Laptop',\n",
       " 'MSI Gaming Raider',\n",
       " 'Lenovo Legion 7',\n",
       " 'Dell 15 (2021) i5-10200H']"
      ]
     },
     "execution_count": 29,
     "metadata": {},
     "output_type": "execute_result"
    }
   ],
   "source": [
    "product_name"
   ]
  },
  {
   "cell_type": "code",
   "execution_count": 30,
   "id": "d06e0a67",
   "metadata": {},
   "outputs": [
    {
     "data": {
      "text/plain": [
       "6"
      ]
     },
     "execution_count": 30,
     "metadata": {},
     "output_type": "execute_result"
    }
   ],
   "source": [
    "len(product_name)"
   ]
  },
  {
   "cell_type": "code",
   "execution_count": 32,
   "id": "ef329f1f",
   "metadata": {},
   "outputs": [
    {
     "data": {
      "text/html": [
       "<div>\n",
       "<style scoped>\n",
       "    .dataframe tbody tr th:only-of-type {\n",
       "        vertical-align: middle;\n",
       "    }\n",
       "\n",
       "    .dataframe tbody tr th {\n",
       "        vertical-align: top;\n",
       "    }\n",
       "\n",
       "    .dataframe thead th {\n",
       "        text-align: right;\n",
       "    }\n",
       "</style>\n",
       "<table border=\"1\" class=\"dataframe\">\n",
       "  <thead>\n",
       "    <tr style=\"text-align: right;\">\n",
       "      <th></th>\n",
       "      <th>product_name</th>\n",
       "      <th>Product_rating</th>\n",
       "      <th>Product_description</th>\n",
       "      <th>Pros</th>\n",
       "      <th>Cons</th>\n",
       "      <th>Url</th>\n",
       "    </tr>\n",
       "  </thead>\n",
       "  <tbody>\n",
       "    <tr>\n",
       "      <th>0</th>\n",
       "      <td>Lenovo IdeaPad Gaming 3 15IAH7</td>\n",
       "      <td>8.4</td>\n",
       "      <td>Budget gaming laptops are a dime a dozen, espe...</td>\n",
       "      <td>PROS\\nGreat price to performance ratio for sub...</td>\n",
       "      <td>&lt;selenium.webdriver.remote.webelement.WebEleme...</td>\n",
       "      <td>https://www.digit.in/laptops/lenovo-ideapad-ga...</td>\n",
       "    </tr>\n",
       "    <tr>\n",
       "      <th>1</th>\n",
       "      <td>Lenovo IdeaPad Gaming 3i</td>\n",
       "      <td>-</td>\n",
       "      <td>Lenovo IdeaPad Gaming 3i gaming laptop was lau...</td>\n",
       "      <td>-</td>\n",
       "      <td>&lt;selenium.webdriver.remote.webelement.WebEleme...</td>\n",
       "      <td>https://www.digit.in/laptops/lenovo-ideapad-ga...</td>\n",
       "    </tr>\n",
       "    <tr>\n",
       "      <th>2</th>\n",
       "      <td>Alienware x14 Gaming Laptop</td>\n",
       "      <td>-</td>\n",
       "      <td>All things said and done, the Alienware X14 is...</td>\n",
       "      <td>PROS\\nNot many laptops look as good as this on...</td>\n",
       "      <td>&lt;selenium.webdriver.remote.webelement.WebEleme...</td>\n",
       "      <td>https://www.digit.in/laptops/alienware-x14-gam...</td>\n",
       "    </tr>\n",
       "    <tr>\n",
       "      <th>3</th>\n",
       "      <td>MSI Gaming Raider</td>\n",
       "      <td>-</td>\n",
       "      <td>-</td>\n",
       "      <td>-</td>\n",
       "      <td>&lt;selenium.webdriver.remote.webelement.WebEleme...</td>\n",
       "      <td>https://www.digit.in/laptops/msi-gaming-raider...</td>\n",
       "    </tr>\n",
       "    <tr>\n",
       "      <th>4</th>\n",
       "      <td>Lenovo Legion 7</td>\n",
       "      <td>-</td>\n",
       "      <td>-</td>\n",
       "      <td>-</td>\n",
       "      <td>&lt;selenium.webdriver.remote.webelement.WebEleme...</td>\n",
       "      <td>https://www.digit.in/laptops/lenovo-legion-7-r...</td>\n",
       "    </tr>\n",
       "    <tr>\n",
       "      <th>5</th>\n",
       "      <td>Dell 15 (2021) i5-10200H</td>\n",
       "      <td>-</td>\n",
       "      <td>-</td>\n",
       "      <td>-</td>\n",
       "      <td>&lt;selenium.webdriver.remote.webelement.WebEleme...</td>\n",
       "      <td>https://www.digit.in/laptops/dell-15-2021-i5-1...</td>\n",
       "    </tr>\n",
       "  </tbody>\n",
       "</table>\n",
       "</div>"
      ],
      "text/plain": [
       "                     product_name Product_rating  \\\n",
       "0  Lenovo IdeaPad Gaming 3 15IAH7            8.4   \n",
       "1        Lenovo IdeaPad Gaming 3i              -   \n",
       "2     Alienware x14 Gaming Laptop              -   \n",
       "3               MSI Gaming Raider              -   \n",
       "4                 Lenovo Legion 7              -   \n",
       "5        Dell 15 (2021) i5-10200H              -   \n",
       "\n",
       "                                 Product_description  \\\n",
       "0  Budget gaming laptops are a dime a dozen, espe...   \n",
       "1  Lenovo IdeaPad Gaming 3i gaming laptop was lau...   \n",
       "2  All things said and done, the Alienware X14 is...   \n",
       "3                                                  -   \n",
       "4                                                  -   \n",
       "5                                                  -   \n",
       "\n",
       "                                                Pros  \\\n",
       "0  PROS\\nGreat price to performance ratio for sub...   \n",
       "1                                                  -   \n",
       "2  PROS\\nNot many laptops look as good as this on...   \n",
       "3                                                  -   \n",
       "4                                                  -   \n",
       "5                                                  -   \n",
       "\n",
       "                                                Cons  \\\n",
       "0  <selenium.webdriver.remote.webelement.WebEleme...   \n",
       "1  <selenium.webdriver.remote.webelement.WebEleme...   \n",
       "2  <selenium.webdriver.remote.webelement.WebEleme...   \n",
       "3  <selenium.webdriver.remote.webelement.WebEleme...   \n",
       "4  <selenium.webdriver.remote.webelement.WebEleme...   \n",
       "5  <selenium.webdriver.remote.webelement.WebEleme...   \n",
       "\n",
       "                                                 Url  \n",
       "0  https://www.digit.in/laptops/lenovo-ideapad-ga...  \n",
       "1  https://www.digit.in/laptops/lenovo-ideapad-ga...  \n",
       "2  https://www.digit.in/laptops/alienware-x14-gam...  \n",
       "3  https://www.digit.in/laptops/msi-gaming-raider...  \n",
       "4  https://www.digit.in/laptops/lenovo-legion-7-r...  \n",
       "5  https://www.digit.in/laptops/dell-15-2021-i5-1...  "
      ]
     },
     "execution_count": 32,
     "metadata": {},
     "output_type": "execute_result"
    }
   ],
   "source": [
    "gaming_laptops = pd.DataFrame({'product_name':product_name,\n",
    "                                'Product_rating':rating,\n",
    "                               'Product_description':description,\n",
    "                               'Pros':pros,\n",
    "                               'Cons':con,\n",
    "                                'Url':product_url})\n",
    "\n",
    "gaming_laptops"
   ]
  },
  {
   "cell_type": "code",
   "execution_count": null,
   "id": "a960077d",
   "metadata": {},
   "outputs": [],
   "source": [
    "##Q7 Write a python program to scrape the details for all billionaires from www.forbes.com. Details to be scrapped: \n",
    "“Rank”, “Name”, “Net worth”, “Age”, “Citizenship”, “Source”, “Industry”."
   ]
  },
  {
   "cell_type": "code",
   "execution_count": 79,
   "id": "c7357eb0",
   "metadata": {},
   "outputs": [],
   "source": [
    "driver = webdriver.Chrome()\n",
    "driver.get('https://www.forbes.com/')"
   ]
  },
  {
   "cell_type": "code",
   "execution_count": 80,
   "id": "fd971bc8",
   "metadata": {},
   "outputs": [],
   "source": [
    "side_bar= driver.find_element(By.XPATH,'//div[@class=\"USVF4LaM\"]')\n",
    "side_bar.click()\n",
    "time.sleep(2)"
   ]
  },
  {
   "cell_type": "code",
   "execution_count": 81,
   "id": "13bf9ae5",
   "metadata": {},
   "outputs": [],
   "source": [
    "billionaires = driver.find_element(By.XPATH,'//a[@class=\"pRMH86kL\"]')\n",
    "billionaires.send_keys('worlds_billionaires')\n",
    "\n",
    "worlds_billionaires= driver.find_element(By.XPATH,'//li[@class=\"QpfB0oZe m8U3dnD2 secondary\"]/a')\n",
    "worlds_billionaires.click()\n",
    "time.sleep(2)"
   ]
  },
  {
   "cell_type": "code",
   "execution_count": 82,
   "id": "5f9b036e",
   "metadata": {},
   "outputs": [],
   "source": [
    "rank=[]\n",
    "name=[]\n",
    "net_worth=[]\n",
    "age=[]\n",
    "citizenship=[]\n",
    "source=[]\n",
    "industry=[]"
   ]
  },
  {
   "cell_type": "code",
   "execution_count": 83,
   "id": "66cd03b8",
   "metadata": {},
   "outputs": [
    {
     "ename": "AttributeError",
     "evalue": "'list' object has no attribute 'text'",
     "output_type": "error",
     "traceback": [
      "\u001b[1;31m---------------------------------------------------------------------------\u001b[0m",
      "\u001b[1;31mAttributeError\u001b[0m                            Traceback (most recent call last)",
      "Cell \u001b[1;32mIn[83], line 6\u001b[0m\n\u001b[0;32m      4\u001b[0m \u001b[38;5;28;01mtry\u001b[39;00m:\n\u001b[0;32m      5\u001b[0m     ranks\u001b[38;5;241m=\u001b[39m driver\u001b[38;5;241m.\u001b[39mfind_elements(By\u001b[38;5;241m.\u001b[39mXPATH,\u001b[38;5;124m'\u001b[39m\u001b[38;5;124m//div[@class=\u001b[39m\u001b[38;5;124m\"\u001b[39m\u001b[38;5;124mTable_rank__X4MKf\u001b[39m\u001b[38;5;124m\"\u001b[39m\u001b[38;5;124m]/div\u001b[39m\u001b[38;5;124m'\u001b[39m)\n\u001b[1;32m----> 6\u001b[0m     rank\u001b[38;5;241m.\u001b[39mappend(ranks\u001b[38;5;241m.\u001b[39mtext)\n\u001b[0;32m      7\u001b[0m \u001b[38;5;28;01mexcept\u001b[39;00m NoSuchElementException:\n\u001b[0;32m      8\u001b[0m     rank\u001b[38;5;241m.\u001b[39mappend(\u001b[38;5;124m'\u001b[39m\u001b[38;5;124m-\u001b[39m\u001b[38;5;124m'\u001b[39m)\n",
      "\u001b[1;31mAttributeError\u001b[0m: 'list' object has no attribute 'text'"
     ]
    }
   ],
   "source": [
    "start =0\n",
    "end =14\n",
    "\n",
    "try:\n",
    "    ranks= driver.find_elements(By.XPATH,'//div[@class=\"Table_rank__X4MKf\"]/div')\n",
    "    rank.append(ranks.text)\n",
    "except NoSuchElementException:\n",
    "    rank.append('-')\n",
    "try:\n",
    "    names= driver.find_elements(By.XPATH,'//div[@class=\"Table_personName__Bus2E\"]')\n",
    "    name.append(names.text)\n",
    "except NoSuchElementException:\n",
    "    name.append('-')\n",
    "try:\n",
    "    net= driver.find_elements(By.XPATH,'//div[@class=\"Table_finalWorth__UZA6k\"]/span')\n",
    "    net_worth.append(net.text)\n",
    "except NoSuchElementException:\n",
    "    net_worth.append('-')\n",
    "try:\n",
    "    ag= driver.find_elements(By.XPATH,'/html/body/div[1]/div[2]/div/div/div[3]/div[2]/div[2]/div/div[2]/div[1]/div[2]/div[4]/div')\n",
    "    age.append(ag.text)\n",
    "except NoSuchElementException:\n",
    "    age.append('-')\n",
    "try:\n",
    "    city= driver.find_elements(By.XPATH,'/html/body/div[1]/div[2]/div/div/div[3]/div[2]/div[2]/div/div[2]/div[1]/div[2]/div[5]')\n",
    "    citizenship.append(city.text)\n",
    "except NoSuchElementException:\n",
    "    citizenship.append('-')\n",
    "try:\n",
    "    sourc= driver.find_elements(By.XPATH,'/html/body/div[1]/div[2]/div/div/div[3]/div[2]/div[2]/div/div[2]/div[1]/div[2]/div[6]')\n",
    "    source.append(sourc.text)\n",
    "except NoSuchElementException:\n",
    "    source.append('-')\n",
    "try:\n",
    "    indus= driver.find_elements(By.XPATH,'/html/body/div[1]/div[2]/div/div/div[3]/div[2]/div[2]/div/div[2]/div[1]/div[2]/div[7]')\n",
    "    industry.append(indus.text)\n",
    "except NoSuchElementException:\n",
    "    industry.append('-')\n"
   ]
  },
  {
   "cell_type": "code",
   "execution_count": null,
   "id": "5669d2b8",
   "metadata": {},
   "outputs": [],
   "source": [
    "##Q8:Write a program to extract at least 500 Comments, Comment upvote and time when comment was posted \n",
    "from any YouTube Video"
   ]
  },
  {
   "cell_type": "code",
   "execution_count": 60,
   "id": "7211bc5b",
   "metadata": {},
   "outputs": [],
   "source": [
    "driver = webdriver.Chrome()\n",
    "driver.get('https://www.youtube.com/')"
   ]
  },
  {
   "cell_type": "code",
   "execution_count": 61,
   "id": "62e7b47f",
   "metadata": {},
   "outputs": [],
   "source": [
    "mobile = driver.find_element(By.XPATH,'//div[@class=\"ytd-searchbox-spt\"]/input')\n",
    "mobile.send_keys('Motorola edge 50 pro')\n",
    "search = driver.find_element(By.XPATH,'/html/body/ytd-app/div[1]/div/ytd-masthead/div[4]/div[2]/ytd-searchbox/button/yt-icon/yt-icon-shape/icon-shape/div')\n",
    "search.click()\n",
    "time.sleep(2)"
   ]
  },
  {
   "cell_type": "code",
   "execution_count": 62,
   "id": "cdc2e3e3",
   "metadata": {},
   "outputs": [],
   "source": [
    "video = driver.find_element(By.XPATH,'/html/body/ytd-app/div[1]/ytd-page-manager/ytd-search/div[1]/ytd-two-column-search-results-renderer/div/ytd-section-list-renderer/div[2]/ytd-item-section-renderer[3]/div[3]/ytd-video-renderer[2]/div[1]/div/div[1]/div/h3/a/yt-formatted-string')\n",
    "video.click()"
   ]
  },
  {
   "cell_type": "code",
   "execution_count": 63,
   "id": "5f3d37f0",
   "metadata": {},
   "outputs": [],
   "source": [
    "for _ in range (1000):\n",
    "    driver.execute_script(\"window.scrollBy(0,1000)\")"
   ]
  },
  {
   "cell_type": "code",
   "execution_count": 57,
   "id": "a4fd128b",
   "metadata": {},
   "outputs": [
    {
     "ename": "AttributeError",
     "evalue": "type object 'By' has no attribute 'XAPTH'",
     "output_type": "error",
     "traceback": [
      "\u001b[1;31m---------------------------------------------------------------------------\u001b[0m",
      "\u001b[1;31mAttributeError\u001b[0m                            Traceback (most recent call last)",
      "Cell \u001b[1;32mIn[57], line 5\u001b[0m\n\u001b[0;32m      2\u001b[0m time\u001b[38;5;241m=\u001b[39m[]\n\u001b[0;32m      4\u001b[0m \u001b[38;5;28;01mtry\u001b[39;00m:\n\u001b[1;32m----> 5\u001b[0m     vote\u001b[38;5;241m=\u001b[39m driver\u001b[38;5;241m.\u001b[39mfind_element(By\u001b[38;5;241m.\u001b[39mXAPTH,\u001b[38;5;124m'\u001b[39m\u001b[38;5;124m//span[@class=\u001b[39m\u001b[38;5;124m\"\u001b[39m\u001b[38;5;124mstyle-scope ytd-comment-engagement-bar\u001b[39m\u001b[38;5;124m\"\u001b[39m\u001b[38;5;124m]\u001b[39m\u001b[38;5;124m'\u001b[39m)\n\u001b[0;32m      6\u001b[0m     upvote\u001b[38;5;241m.\u001b[39mappend(vote\u001b[38;5;241m.\u001b[39mtext)\n\u001b[0;32m      7\u001b[0m \u001b[38;5;28;01mexcept\u001b[39;00m NoSuchElementException:\n",
      "\u001b[1;31mAttributeError\u001b[0m: type object 'By' has no attribute 'XAPTH'"
     ]
    }
   ],
   "source": [
    "upvote =[]\n",
    "time=[]\n",
    "\n",
    "try:\n",
    "    vote= driver.find_element(By.XPATH,'//span[@class=\"style-scope ytd-comment-engagement-bar\"]')\n",
    "    upvote.append(vote.text)\n",
    "except NoSuchElementException:\n",
    "    upvote.append('-')\n",
    "\n",
    "try:\n",
    "    times= driver.find_element(By.XPATH,'//span[@class=\"style-scope ytd-comment-view-model\"]/a')\n",
    "    time.append(times.text)\n",
    "except NoSuchElementException:\n",
    "    time.append('-')"
   ]
  },
  {
   "cell_type": "code",
   "execution_count": null,
   "id": "c0a5e027",
   "metadata": {},
   "outputs": [],
   "source": [
    "##9Write a python program to scrape a data for all available Hostels from https://www.hostelworld.com/ in \n",
    "“London” location. You have to scrape hostel name, distance from city centre, ratings, total reviews, overall \n",
    "reviews, privates from price, dorms from price, facilities and property description. "
   ]
  },
  {
   "cell_type": "code",
   "execution_count": 77,
   "id": "0c92abb8",
   "metadata": {},
   "outputs": [],
   "source": [
    "driver = webdriver.Chrome()\n",
    "driver.get('https://www.hostelworld.com/')"
   ]
  },
  {
   "cell_type": "code",
   "execution_count": 78,
   "id": "f2c05628",
   "metadata": {},
   "outputs": [],
   "source": [
    "loc = driver.find_element(By.XPATH,'/html/body/div[3]/div/div[2]/main/header/div/div[2]/div[1]/div[1]/div/div[1]/div[1]/div/div[2]/label/input')\n",
    "loc.send_keys('London')\n",
    "lets_go= driver.find_element(By.XPATH,'/html/body/div[3]/div/div[2]/main/header/div/div[2]/div[1]/div[1]/div/div[5]/button[2]/span')\n",
    "lets_go.click()\n",
    "time.sleep(3)"
   ]
  },
  {
   "cell_type": "code",
   "execution_count": null,
   "id": "5a97d8a4",
   "metadata": {},
   "outputs": [],
   "source": []
  }
 ],
 "metadata": {
  "kernelspec": {
   "display_name": "Python 3 (ipykernel)",
   "language": "python",
   "name": "python3"
  },
  "language_info": {
   "codemirror_mode": {
    "name": "ipython",
    "version": 3
   },
   "file_extension": ".py",
   "mimetype": "text/x-python",
   "name": "python",
   "nbconvert_exporter": "python",
   "pygments_lexer": "ipython3",
   "version": "3.11.5"
  }
 },
 "nbformat": 4,
 "nbformat_minor": 5
}
