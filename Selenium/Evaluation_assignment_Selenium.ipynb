{
 "cells": [
  {
   "cell_type": "code",
   "execution_count": 1,
   "id": "d30dcaa0",
   "metadata": {},
   "outputs": [],
   "source": [
    "import selenium\n",
    "\n",
    "import pandas as pd\n",
    "\n",
    "from selenium import webdriver\n",
    "\n",
    "import warnings\n",
    "warnings.filterwarnings('ignore')\n",
    "\n",
    "from selenium.webdriver.common.by import By\n",
    "import time"
   ]
  },
  {
   "cell_type": "code",
   "execution_count": null,
   "id": "9a3a17fd",
   "metadata": {},
   "outputs": [],
   "source": [
    "Q1: In this question you have to scrape data using the filters available on the webpage You have to use the location and \n",
    "salary filter. \n",
    "You have to scrape data for “Data Scientist” designation for first 10 job results. \n",
    "You have to scrape the job-title, job-location, company name, experience required. \n",
    "The location filter to be used is “Delhi/NCR”. The salary filter to be used is “3-6” lakhs \n",
    "The task will be done as shown in the below steps: \n",
    "1. first get the web page https://www.naukri.com/\n",
    "2. Enter “Data Scientist” in “Skill, Designations, and Companies” field. \n",
    "3. Then click the search button. \n",
    "4. Then apply the location filter and salary filter by checking the respective boxes \n",
    "5. Then scrape the data for the first 10 jobs results you get. \n",
    "6. Finally create a dataframe of the scraped data. "
   ]
  },
  {
   "cell_type": "code",
   "execution_count": 15,
   "id": "bb6eb6ca",
   "metadata": {},
   "outputs": [],
   "source": [
    "driver = webdriver.Chrome()"
   ]
  },
  {
   "cell_type": "code",
   "execution_count": 16,
   "id": "0979e272",
   "metadata": {},
   "outputs": [],
   "source": [
    "driver.get(\"https://www.naukri.com/\")"
   ]
  },
  {
   "cell_type": "code",
   "execution_count": 17,
   "id": "a38b896c",
   "metadata": {},
   "outputs": [],
   "source": [
    "designation = driver.find_element(By.CLASS_NAME,\"suggestor-input \")\n",
    "designation.send_keys('Data Scientist')"
   ]
  },
  {
   "cell_type": "code",
   "execution_count": 20,
   "id": "4db1f434",
   "metadata": {},
   "outputs": [],
   "source": [
    "location = driver.find_element(By.XPATH,'/html/body/div[1]/div[7]/div/div/div[5]/div/div/div/div[1]/div/input')\n",
    "location.send_keys(\"Delhi/NCR\")"
   ]
  },
  {
   "cell_type": "code",
   "execution_count": 23,
   "id": "d220117b",
   "metadata": {},
   "outputs": [],
   "source": [
    "search = driver.find_element(By.XPATH,'/html/body/div[1]/div[7]/div/div/div[6]')\n",
    "search.click()                           "
   ]
  },
  {
   "cell_type": "code",
   "execution_count": 24,
   "id": "c44423a6",
   "metadata": {},
   "outputs": [],
   "source": [
    "salary = driver.find_element(By.XPATH,\"/html/body/div/div/main/div[1]/div[1]/div/div/div[2]/div[3]/div[2]/div[2]/label/p/span[1]\")\n",
    "salary.click()"
   ]
  },
  {
   "cell_type": "code",
   "execution_count": 10,
   "id": "a34fc15d",
   "metadata": {},
   "outputs": [],
   "source": [
    "job_title = []\n",
    "job_location=[]\n",
    "company_name =[]\n",
    "experience_required=[]"
   ]
  },
  {
   "cell_type": "code",
   "execution_count": 33,
   "id": "9a697126",
   "metadata": {},
   "outputs": [],
   "source": [
    "title = driver.find_elements(By.XPATH,'//div[@class=\"cust-job-tuple layout-wrapper lay-2 sjw__tuple \"]/div/a')\n",
    "for i in title:\n",
    "    title= i.text\n",
    "    job_title.append(title)\n",
    "    \n",
    "location = driver.find_elements(By.XPATH,'//span[@class=\"ni-job-tuple-icon ni-job-tuple-icon-srp-location loc\"]')\n",
    "for i in location:\n",
    "    location= i.text\n",
    "    job_location.append(location)\n",
    "    \n",
    "company = driver.find_elements(By.XPATH,'//a[@class=\" comp-name mw-25\"]')\n",
    "for i in company:\n",
    "    company= i.text\n",
    "    company_name.append(company)\n",
    "    \n",
    "experience= driver.find_elements(By.XPATH,'//span[@class=\"ni-job-tuple-icon ni-job-tuple-icon-srp-experience exp\"]/span')\n",
    "\n",
    "for i in experience:\n",
    "    experience=i.text\n",
    "    experience_required.append(experience)    "
   ]
  },
  {
   "cell_type": "code",
   "execution_count": 26,
   "id": "cd8aae64",
   "metadata": {},
   "outputs": [
    {
     "data": {
      "text/plain": [
       "['Data Scientist | Consultant | AM | DM',\n",
       " 'Data Scientist | Consultant | AM | DM',\n",
       " 'Data Scientist | Consultant | AM | DM',\n",
       " 'Data Scientist',\n",
       " 'Data Scientist',\n",
       " 'Associate Data Scientist',\n",
       " 'Data Scientist - NLP, Gen AI',\n",
       " 'Python Data Scientist',\n",
       " 'Data Scientist',\n",
       " 'Data Scientist',\n",
       " 'Data Scientist']"
      ]
     },
     "execution_count": 26,
     "metadata": {},
     "output_type": "execute_result"
    }
   ],
   "source": [
    "title = driver.find_elements(By.XPATH,'//div[@class=\"cust-job-tuple layout-wrapper lay-2 sjw__tuple \"]/div/a')\n",
    "for i in title:\n",
    "    title= i.text\n",
    "    job_title.append(title)\n",
    "job_title[0:11]"
   ]
  },
  {
   "cell_type": "code",
   "execution_count": 35,
   "id": "bc4c93e2",
   "metadata": {},
   "outputs": [
    {
     "name": "stdout",
     "output_type": "stream",
     "text": [
      "60 40 36 60\n"
     ]
    }
   ],
   "source": [
    "print(len(job_title),len(job_location),len(company_name),len(experience_required))"
   ]
  },
  {
   "cell_type": "code",
   "execution_count": 26,
   "id": "4723fd74",
   "metadata": {},
   "outputs": [
    {
     "data": {
      "text/plain": [
       "['Kolkata, Mumbai, New Delhi, Hyderabad, Pune, Chennai, Bengaluru',\n",
       " 'Mumbai, Gurugram',\n",
       " 'Gurugram',\n",
       " 'Kolkata, Mumbai, New Delhi, Hyderabad, Pune, Chennai, Bengaluru',\n",
       " 'Kolkata, Mumbai, New Delhi, Hyderabad, Pune, Chennai, Bengaluru',\n",
       " 'Kolkata, Mumbai, New Delhi, Hyderabad, Pune, Chennai, Bengaluru',\n",
       " 'Kolkata, Mumbai, New Delhi, Hyderabad, Pune, Chennai, Bengaluru',\n",
       " 'Kolkata, Mumbai, New Delhi, Hyderabad, Pune, Chennai, Bengaluru',\n",
       " 'Gurugram',\n",
       " 'Noida',\n",
       " 'Faridabad',\n",
       " 'Noida',\n",
       " 'Noida',\n",
       " 'Hyderabad, New Delhi, Pune, Gurugram, Bengaluru',\n",
       " 'Gurugram, Bengaluru',\n",
       " 'Gurugram',\n",
       " 'Kolkata, Mumbai, New Delhi, Hyderabad, Pune, Chennai, Bengaluru',\n",
       " 'New Delhi',\n",
       " 'Gurugram',\n",
       " 'Varanasi, Kannur, Mumbai, New Delhi']"
      ]
     },
     "execution_count": 26,
     "metadata": {},
     "output_type": "execute_result"
    }
   ],
   "source": [
    "location = driver.find_elements(By.XPATH,'//span[@class=\"ni-job-tuple-icon ni-job-tuple-icon-srp-location loc\"]')\n",
    "for i in location:\n",
    "    location= i.text\n",
    "    job_location.append(location)\n",
    "    \n",
    "job_location"
   ]
  },
  {
   "cell_type": "code",
   "execution_count": 27,
   "id": "cfbc88c5",
   "metadata": {},
   "outputs": [
    {
     "data": {
      "text/plain": [
       "['Essenware',\n",
       " 'PayU',\n",
       " 'Orange Business Services',\n",
       " 'Wizaltia Hr Solutions',\n",
       " 'Scienaptic Systems',\n",
       " 'Digital Glyde',\n",
       " 'Orange Business Services',\n",
       " 'Ericsson',\n",
       " 'Hitachi Energy',\n",
       " 'Innovaccer',\n",
       " 'Times Internet',\n",
       " 'The Scholar',\n",
       " 'PayU',\n",
       " 'Axa Technology Services',\n",
       " 'Fort Technologies',\n",
       " 'Business Toys',\n",
       " 'Gartner',\n",
       " 'Searchurcollege']"
      ]
     },
     "execution_count": 27,
     "metadata": {},
     "output_type": "execute_result"
    }
   ],
   "source": [
    "company = driver.find_elements(By.XPATH,'//a[@class=\" comp-name mw-25\"]')\n",
    "for i in company:\n",
    "    company= i.text\n",
    "    company_name.append(company)\n",
    "    \n",
    "company_name"
   ]
  },
  {
   "cell_type": "code",
   "execution_count": null,
   "id": "92793a90",
   "metadata": {},
   "outputs": [],
   "source": []
  },
  {
   "cell_type": "code",
   "execution_count": null,
   "id": "9e58aaca",
   "metadata": {},
   "outputs": [],
   "source": []
  },
  {
   "cell_type": "code",
   "execution_count": null,
   "id": "8d331e0a",
   "metadata": {},
   "outputs": [],
   "source": []
  },
  {
   "cell_type": "code",
   "execution_count": null,
   "id": "820b2270",
   "metadata": {},
   "outputs": [],
   "source": [
    "Q2: Write a python program to scrape data for “Data Scientist” Job position in “Bangalore” location. You have to scrape the \n",
    "job-title, job-location, company_name, experience_required. You have to scrape first 10 jobs data.\n",
    "This task will be done in following steps:\n",
    "1. First get the webpage https://www.shine.com/\n",
    "2. Enter “Data Analyst” in “Job title, Skills” field and enter “Bangalore” in “enter the location” field.\n",
    "3. Then click the searchbutton. \n",
    "4. Then scrape the data for the first 10 jobs results you get. \n",
    "5. Finally create a dataframe of the scraped data. "
   ]
  },
  {
   "cell_type": "code",
   "execution_count": 59,
   "id": "60521cd9",
   "metadata": {},
   "outputs": [],
   "source": [
    "driver = webdriver.Chrome()\n",
    "\n",
    "driver.get(\"https://www.shine.com/\")"
   ]
  },
  {
   "cell_type": "code",
   "execution_count": 60,
   "id": "18e2daed",
   "metadata": {},
   "outputs": [],
   "source": [
    "designation = driver.find_element(By.CLASS_NAME,\"form-control  \")\n",
    "designation.send_keys('Data Scientist')"
   ]
  },
  {
   "cell_type": "code",
   "execution_count": 61,
   "id": "1734c2c7",
   "metadata": {},
   "outputs": [],
   "source": [
    "location= driver.find_element(By.XPATH,'/html/body/div/div[4]/div/div[2]/div[2]/div/form/div/div[1]/ul/li[2]/div/input')\n",
    "location.send_keys('Bangalore')"
   ]
  },
  {
   "cell_type": "code",
   "execution_count": 62,
   "id": "fbf4b29e",
   "metadata": {},
   "outputs": [],
   "source": [
    "search = driver.find_element(By.XPATH,'/html/body/div/div[4]/div/div[2]/div[2]/div/form/div/div[2]/div/button')\n",
    "search.click()"
   ]
  },
  {
   "cell_type": "code",
   "execution_count": 20,
   "id": "6e23942a",
   "metadata": {},
   "outputs": [],
   "source": [
    "job_title = []\n",
    "job_location=[]\n",
    "company_name =[]\n",
    "experience_required=[]"
   ]
  },
  {
   "cell_type": "code",
   "execution_count": 66,
   "id": "a7117599",
   "metadata": {},
   "outputs": [
    {
     "data": {
      "text/plain": [
       "['Data Scientist',\n",
       " 'Data Scientist',\n",
       " 'Data Scientist',\n",
       " 'Data Scientist',\n",
       " 'Data Scientist',\n",
       " 'Data Scientist',\n",
       " 'Data Scientist',\n",
       " 'Data Scientist',\n",
       " 'Data Scientist',\n",
       " 'Data Scientist',\n",
       " 'Data Scientist',\n",
       " 'Data Scientist',\n",
       " 'Data Scientist',\n",
       " 'Data Scientist',\n",
       " 'Data Scientist',\n",
       " 'Hiring For Data Scientist',\n",
       " 'Data Scientist',\n",
       " 'Data Scientist',\n",
       " 'Data Scientist Opening',\n",
       " 'Data Analyst',\n",
       " 'Data Science Manager',\n",
       " 'Clinical Data Analyst',\n",
       " 'Clinical Data Analyst',\n",
       " 'Lead Data Analyst',\n",
       " 'Lead Data Analyst',\n",
       " 'Data Analyst',\n",
       " 'Data Modeler',\n",
       " 'DATA SCIENCE ANALYTICS SPECIALIST',\n",
       " 'Azure Data Engineer',\n",
       " 'Head Data Science',\n",
       " 'Immediate Joiner For SENIOR DATA ENGINEER __ PAN INDI ...',\n",
       " 'Data Scientist',\n",
       " 'Data Scientist',\n",
       " 'Data Scientist',\n",
       " 'Data Scientist',\n",
       " 'Hiring For Data Scientist',\n",
       " 'Data Scientist',\n",
       " 'Data Scientist',\n",
       " 'Data Scientist Opening',\n",
       " 'Data Analyst',\n",
       " 'Data Science Manager',\n",
       " 'Clinical Data Analyst',\n",
       " 'Clinical Data Analyst',\n",
       " 'Lead Data Analyst',\n",
       " 'Lead Data Analyst',\n",
       " 'Data Analyst',\n",
       " 'Data Modeler',\n",
       " 'DATA SCIENCE ANALYTICS SPECIALIST',\n",
       " 'Azure Data Engineer',\n",
       " 'Head Data Science',\n",
       " 'Immediate Joiner For SENIOR DATA ENGINEER __ PAN INDI ...']"
      ]
     },
     "execution_count": 66,
     "metadata": {},
     "output_type": "execute_result"
    }
   ],
   "source": [
    "title = driver.find_elements(By.XPATH,'//strong[@class=\"jobCard_pReplaceH2__xWmHg\"]/h2/a')\n",
    "for i in title:\n",
    "    title= i.text\n",
    "    job_title.append(title)\n",
    "    \n",
    "job_title"
   ]
  },
  {
   "cell_type": "code",
   "execution_count": 43,
   "id": "10f1c2fa",
   "metadata": {},
   "outputs": [
    {
     "data": {
      "text/plain": [
       "['Bangalore\\n+4',\n",
       " 'Bangalore',\n",
       " 'Bangalore\\n+4',\n",
       " 'Bangalore\\n+4',\n",
       " 'Bangalore\\n+10',\n",
       " 'Bangalore\\n+1',\n",
       " 'Bangalore\\n+2',\n",
       " 'Bangalore\\n+15',\n",
       " 'Bangalore',\n",
       " 'Bangalore',\n",
       " 'Bangalore\\n+12',\n",
       " 'Bangalore',\n",
       " 'Bangalore\\n+3',\n",
       " 'Bangalore\\n+6',\n",
       " 'Bangalore\\n+6',\n",
       " 'Bangalore\\n+8',\n",
       " 'Bangalore\\n+7',\n",
       " 'Bangalore\\n+18',\n",
       " 'Bangalore\\n+8',\n",
       " 'Bangalore\\n+7',\n",
       " 'Bangalore\\n+3',\n",
       " 'Bangalore\\n+7',\n",
       " 'Bangalore\\n+8']"
      ]
     },
     "execution_count": 43,
     "metadata": {},
     "output_type": "execute_result"
    }
   ],
   "source": [
    "location = driver.find_elements(By.XPATH,'//div[@class=\"jobCard_jobCard_lists_item__YxRkV jobCard_locationIcon__zrWt2\"]')\n",
    "for i in location:\n",
    "    location=i.text\n",
    "    job_location.append(location)\n",
    "job_location"
   ]
  },
  {
   "cell_type": "code",
   "execution_count": 45,
   "id": "13d07d26",
   "metadata": {},
   "outputs": [
    {
     "data": {
      "text/plain": [
       "['alike thoughts solutions private li...',\n",
       " 'vaishnavi services',\n",
       " 'dotcod innovation private limited',\n",
       " 'talent toppers llp',\n",
       " 'neelima staffing solution',\n",
       " 'unified excellence llp',\n",
       " 'unified excellence llp',\n",
       " 'radhika enterprises',\n",
       " 'vision india services private limit...',\n",
       " 'mackenzie modern it solutions priva...',\n",
       " 'techno endura',\n",
       " 'techno endura',\n",
       " 'mackenzie modern it solutions priva...',\n",
       " 'mackenzie modern it solutions priva...',\n",
       " 'neo impex stainless private limited',\n",
       " 'ltimindtree limited',\n",
       " 'mackenzie modern it solutions priva...',\n",
       " 'live connections placements pvt ltd',\n",
       " 'mackenzie modern it solutions priva...',\n",
       " 'sigma allied services private limit...']"
      ]
     },
     "execution_count": 45,
     "metadata": {},
     "output_type": "execute_result"
    }
   ],
   "source": [
    "company = driver.find_elements(By.XPATH,'//div[@class=\"jobCard_jobCard_cName__mYnow\"]/span')\n",
    "for i in company:\n",
    "    company=i.text\n",
    "    company_name.append(company)\n",
    "company_name"
   ]
  },
  {
   "cell_type": "code",
   "execution_count": 51,
   "id": "6317a0b1",
   "metadata": {},
   "outputs": [],
   "source": [
    "experience = driver.find_elements(By.XPATH,'//div[@class=\" jobCard_jobCard_lists_item__YxRkV jobCard_jobIcon__3FB1t\"]')\n",
    "for i in experience:\n",
    "    experience=i.text\n",
    "    experience_required.append(experience)"
   ]
  },
  {
   "cell_type": "code",
   "execution_count": 52,
   "id": "a464ed0e",
   "metadata": {},
   "outputs": [
    {
     "data": {
      "text/plain": [
       "['5 to 10 Yrs',\n",
       " '18 to >25 Yrs',\n",
       " '2 to 6 Yrs',\n",
       " '0 to 3 Yrs',\n",
       " '0 to 4 Yrs',\n",
       " '4 to 8 Yrs',\n",
       " '4 to 8 Yrs',\n",
       " '0 to 4 Yrs',\n",
       " '2 to 4 Yrs',\n",
       " '4 to 9 Yrs',\n",
       " '0 to 1 Yr',\n",
       " '0 to 1 Yr',\n",
       " '5 to 9 Yrs',\n",
       " '5 to 9 Yrs',\n",
       " '9 to 14 Yrs',\n",
       " '5 to 10 Yrs',\n",
       " '6 to 11 Yrs',\n",
       " '4 to 7 Yrs',\n",
       " '4 to 9 Yrs',\n",
       " '5 to 10 Yrs']"
      ]
     },
     "execution_count": 52,
     "metadata": {},
     "output_type": "execute_result"
    }
   ],
   "source": [
    "experience_required"
   ]
  },
  {
   "cell_type": "code",
   "execution_count": null,
   "id": "b0931703",
   "metadata": {},
   "outputs": [],
   "source": [
    "Q3: Scrape 100 reviews data from flipkart.com for iphone11 phone. You have to go the link: \n",
    "https://www.flipkart.com/apple-iphone-11-black-64-gb/product\u0002reviews/itm4e5041ba101fd?pid=MOBFWQ6BXGJCEYNY&lid=LSTMOBFWQ6BXGJCEYNYZXSHRJ&marketplace=F\n",
    "LIPKART\n",
    "As shown in the above page you have to scrape the tick marked attributes. These are:\n",
    "1. Rating\n",
    "2. Review summary\n",
    "3. Full review\n",
    "4. You have to scrape this data for first 100reviews."
   ]
  },
  {
   "cell_type": "code",
   "execution_count": 2,
   "id": "b7ee6eff",
   "metadata": {},
   "outputs": [],
   "source": [
    "driver = webdriver.Chrome()\n",
    "\n",
    "driver.get(\"https://www.flipkart.com/apple-iphone-11-black-64-gb/product-reviews/itm4e5041ba101fd?pid=MOBFWQ6BXGJCEYNY&lid=LSTMOBFWQ6BXGJCEYNYZXSHRJ&marketplace=FLIPKART\")"
   ]
  },
  {
   "cell_type": "code",
   "execution_count": 3,
   "id": "44cc5384",
   "metadata": {},
   "outputs": [],
   "source": [
    "rating=[]\n",
    "review_summary=[]\n",
    "full_review=[]"
   ]
  },
  {
   "cell_type": "code",
   "execution_count": 4,
   "id": "1b993fdf",
   "metadata": {},
   "outputs": [],
   "source": [
    "start =0\n",
    "end =10\n",
    "\n",
    "for page in range(start,end):\n",
    "    review = driver.find_elements(By.XPATH,'//p[@class=\"z9E0IG\"]')\n",
    "    for i in review:\n",
    "        review_summary.append(i.text)\n",
    "    next_button = driver.find_element(By.XPATH,'//a[@class=\"_9QVEpD\"]')\n",
    "    next_button.click()\n",
    "    time.sleep(3)"
   ]
  },
  {
   "cell_type": "code",
   "execution_count": 5,
   "id": "8e9851e9",
   "metadata": {},
   "outputs": [
    {
     "data": {
      "text/plain": [
       "100"
      ]
     },
     "execution_count": 5,
     "metadata": {},
     "output_type": "execute_result"
    }
   ],
   "source": [
    "len(review_summary)"
   ]
  },
  {
   "cell_type": "code",
   "execution_count": 12,
   "id": "58740cdb",
   "metadata": {},
   "outputs": [],
   "source": [
    "start =0\n",
    "end =10\n",
    "\n",
    "for page in range(start,end):\n",
    "    rate = driver.find_elements(By.XPATH,'//div[@class=\"XQDdHH Ga3i8K\"]')\n",
    "    for i in rating:\n",
    "        rating.append(i.text)\n",
    "    next_button = driver.find_element(By.XPATH,'//a[@class=\"_9QVEpD\"]/span')\n",
    "    next_button.click()\n",
    "    time.sleep(3)"
   ]
  },
  {
   "cell_type": "code",
   "execution_count": 13,
   "id": "7df26aa9",
   "metadata": {},
   "outputs": [
    {
     "data": {
      "text/plain": [
       "0"
      ]
     },
     "execution_count": 13,
     "metadata": {},
     "output_type": "execute_result"
    }
   ],
   "source": [
    "len(rating)"
   ]
  },
  {
   "cell_type": "code",
   "execution_count": 9,
   "id": "1c098207",
   "metadata": {},
   "outputs": [
    {
     "data": {
      "text/plain": [
       "[]"
      ]
     },
     "execution_count": 9,
     "metadata": {},
     "output_type": "execute_result"
    }
   ],
   "source": [
    "rating"
   ]
  },
  {
   "cell_type": "code",
   "execution_count": 14,
   "id": "ed663200",
   "metadata": {},
   "outputs": [],
   "source": [
    "start =0\n",
    "end =10\n",
    "\n",
    "for page in range(start,end):\n",
    "    reviews = driver.find_elements(By.XPATH,'//div[@class=\"ZmyHeo\"]/div')\n",
    "    for i in reviews:\n",
    "        full_review.append(i.text)\n",
    "    next_button = driver.find_element(By.XPATH,'//a[@class=\"_9QVEpD\"]/span')\n",
    "    next_button.click()\n",
    "    time.sleep(3)"
   ]
  },
  {
   "cell_type": "code",
   "execution_count": 15,
   "id": "b6abddeb",
   "metadata": {},
   "outputs": [
    {
     "data": {
      "text/plain": [
       "100"
      ]
     },
     "execution_count": 15,
     "metadata": {},
     "output_type": "execute_result"
    }
   ],
   "source": [
    "len(full_review)"
   ]
  },
  {
   "cell_type": "code",
   "execution_count": null,
   "id": "2c8a9c4f",
   "metadata": {},
   "outputs": [],
   "source": [
    "Q4:Scrape data forfirst 100 sneakers you find whenyouvisitflipkart.com and search for “sneakers” inthe search\n",
    "field.\n",
    "You have to scrape 3 attributes of each sneaker:\n",
    "1. Brand\n",
    "2. ProductDescription\n",
    "3. Price"
   ]
  },
  {
   "cell_type": "code",
   "execution_count": 2,
   "id": "2e0ca680",
   "metadata": {},
   "outputs": [],
   "source": [
    "driver = webdriver.Chrome()\n",
    "\n",
    "driver.get('https://www.flipkart.com/')"
   ]
  },
  {
   "cell_type": "code",
   "execution_count": 3,
   "id": "46c9b5f8",
   "metadata": {},
   "outputs": [],
   "source": [
    "sneaker =driver.find_element(By.XPATH,'//input[@class=\"Pke_EE\"]')\n",
    "\n",
    "sneaker.send_keys('sneakers')"
   ]
  },
  {
   "cell_type": "code",
   "execution_count": 4,
   "id": "347e2cd3",
   "metadata": {},
   "outputs": [],
   "source": [
    "brand =[]\n",
    "product_description=[]\n",
    "price =[]"
   ]
  },
  {
   "cell_type": "code",
   "execution_count": 5,
   "id": "b4ddbe41",
   "metadata": {},
   "outputs": [
    {
     "data": {
      "text/plain": [
       "120"
      ]
     },
     "execution_count": 5,
     "metadata": {},
     "output_type": "execute_result"
    }
   ],
   "source": [
    "start =0\n",
    "end =3\n",
    "\n",
    "for page in range(start,end):\n",
    "    brnd= driver.find_elements(By.XPATH,'//div[@class=\"syl9yP\"]')\n",
    "    for i in brnd:\n",
    "        brand.append(i.text)\n",
    "    next_button = driver.find_element(By.XPATH,'//a[@class=\"_9QVEpD\"]/span')\n",
    "    next_button.click()\n",
    "    time.sleep(3)\n",
    "len(brand)"
   ]
  },
  {
   "cell_type": "code",
   "execution_count": 9,
   "id": "b5da5b4d",
   "metadata": {},
   "outputs": [
    {
     "data": {
      "text/plain": [
       "79"
      ]
     },
     "execution_count": 9,
     "metadata": {},
     "output_type": "execute_result"
    }
   ],
   "source": [
    "start =0\n",
    "end =11\n",
    "\n",
    "for page in range(start,end):\n",
    "    product= driver.find_elements(By.XPATH,'//a[@class=\"WKTcLC BwBZTg\"]')\n",
    "    for i in product:\n",
    "        product_description.append(i.text)\n",
    "    next_button = driver.find_element(By.XPATH,'//a[@class=\"_9QVEpD\"]/span')\n",
    "    next_button.click()\n",
    "    time.sleep(3)\n",
    "len(product_description)"
   ]
  },
  {
   "cell_type": "code",
   "execution_count": 10,
   "id": "7a7ed95e",
   "metadata": {},
   "outputs": [
    {
     "data": {
      "text/plain": [
       "120"
      ]
     },
     "execution_count": 10,
     "metadata": {},
     "output_type": "execute_result"
    }
   ],
   "source": [
    "start =0\n",
    "end =3\n",
    "\n",
    "for page in range (start,end):\n",
    "    prc =driver.find_elements(By.XPATH,'//div[@class=\"Nx9bqj\"]')\n",
    "    for i in prc:\n",
    "        price.append(i.text)\n",
    "    next_button = driver.find_element(By.XPATH,'//a[@class=\"_9QVEpD\"]/span')\n",
    "    next_button.click()\n",
    "    time.sleep(3)\n",
    "    \n",
    "len(price)"
   ]
  },
  {
   "cell_type": "code",
   "execution_count": null,
   "id": "38c90f04",
   "metadata": {},
   "outputs": [],
   "source": [
    "Q5:Q5: Go to webpage https://www.amazon.in/ Enter “Laptop” in the search field and then click the search icon. Then set CPU\n",
    "Type filter to “Intel Core i7”\n",
    "\n",
    "Aftersetting the filters scrape first 10 laptops data. You have to scrape 3 attributes for each laptop:\n",
    "1. Title\n",
    "2. Ratings\n",
    "3. Price"
   ]
  },
  {
   "cell_type": "code",
   "execution_count": 12,
   "id": "108e7713",
   "metadata": {},
   "outputs": [],
   "source": [
    "driver = webdriver.Chrome()\n",
    "driver.get('https://www.amazon.in/')"
   ]
  },
  {
   "cell_type": "code",
   "execution_count": 13,
   "id": "2ae25669",
   "metadata": {},
   "outputs": [],
   "source": [
    "laptop = driver.find_element(By.XPATH,'/html/body/div[1]/header/div/div[1]/div[2]/div/form/div[2]/div[1]/input')\n",
    "laptop.send_keys('laptop')"
   ]
  },
  {
   "cell_type": "code",
   "execution_count": 14,
   "id": "e6f552ab",
   "metadata": {},
   "outputs": [],
   "source": [
    "search = driver.find_element(By.XPATH,'/html/body/div[1]/header/div/div[1]/div[2]/div/form/div[3]/div/span/input')\n",
    "search.click()"
   ]
  },
  {
   "cell_type": "code",
   "execution_count": 30,
   "id": "253ecf68",
   "metadata": {},
   "outputs": [],
   "source": [
    "titles=[]\n",
    "ratings=[]\n",
    "item_price=[]"
   ]
  },
  {
   "cell_type": "code",
   "execution_count": 23,
   "id": "c794575f",
   "metadata": {},
   "outputs": [],
   "source": [
    "title = driver.find_elements(By.XPATH,'//div[@class=\"a-section a-spacing-small a-spacing-top-small\"]/div/h2/a/span')\n",
    "for i in title:\n",
    "    title=i.text\n",
    "    titles.append(title)"
   ]
  },
  {
   "cell_type": "code",
   "execution_count": 27,
   "id": "d79e9dd6",
   "metadata": {},
   "outputs": [
    {
     "data": {
      "text/plain": [
       "['Acer Aspire Lite 12th Gen Intel Core i7-1255U Premium Metal Laptop (Windows 11 Home/16 GB RAM/512 GB SSD) AL15-52, 39.62cm (15.6\") Full HD Display, Metal Body, Steel Gray, 1.59 Kg',\n",
       " 'Dell Inspiron 7420 2in1 Laptop, Intel Core i7-1255U Processor/16GB/512GB/14.0\" (35.56cm) FHD+ WVA Touch 250 nits, Active Pen/Win 11 + MSO\\'21, 15 Month McAfee/Backlit KB + FPR/Platinum Silver, 1.57kg',\n",
       " 'MSI Modern 14, Intel 12th Gen. i7-1255U, 36CM FHD 60Hz Laptop (16GB/512GB NVMe SSD/Windows 11 Home/Intel Iris Xe Graphics/Classic Black/1.4Kg), C12M-459IN',\n",
       " 'Lenovo IdeaPad Slim 3 Intel Core i7 12th Gen 15.6 inch (39.62cm) FHD Thin & Light Laptop (8GB/512GB SSD/Windows 11/Office 2021/1Yr ADP Free/3months Game Pass/Arctic Grey/1.63Kg), 82RK011EIN',\n",
       " 'HP Pavilion 14 12th Gen Intel Core i7 16GB SDRAM/1TB SSD 14 inch(35.6cm) FHD,IPS,Micro-Edge Display/Intel Iris Xe Graphics/B&O/Win 11/Alexa Built-in/Backlit KB/FPR/MSO 2021/Natural Silver,14-dv2015TU',\n",
       " 'Dell Latitude 7480 14in FHD Laptop PC - Intel Core i7-6600U 2.6GHz 16GB 512GB SSD Windows 10 Professional (Renewed)',\n",
       " 'HP Laptop 15s, 12th Gen Intel Core i7-1255U, 15.6-inch (39.6 cm), FHD, 16GB DDR4, 512GB SSD, Intel Iris Xe Graphics, Backlit KB, Thin & Light (Win 11, MSO 2021, Silver, 1.69 kg), fq5190TU',\n",
       " 'ASUS [Smartchoice] Vivobook 15, Intel Core i7-12650H 12th Gen, 15.6\" (39.62 cm) FHD, Thin and Light Laptop (16GB/512GB/Win11/Office 2021/Blue/1.7 kg), X1502ZA-EJ741WS(Upto 8000 Bank Discount)',\n",
       " 'Acer Travelmate Business Laptop Intel Core i7-11th Gen (Windows 11 Home/16 GB Ram/1TB SSD/Intel Iris Xe Graphics/14.0 IPS Display/Backlit Keyboard/Fingerprint Sensor) TMP214-53',\n",
       " 'Lenovo IdeaPad Slim 5 Intel Core i7 13700H 16\" (40.6cm) 2.5K IPS 350Nits Laptop (16GB/1TB SSD/Win 11/Office 2021/Backlit KB/FHD 1080p +IR Camera/Alexa/3 Month Game Pass/Cloud Grey/1.9Kg), 82XF0078IN',\n",
       " 'Dell Inspiron 5430 Laptop, 13th Gen Intel Core i7-1360P Processor/16GB/1TB SSD/14.0\" (35.56cm) FHD+ WVA 250 nits/Backlit KB + FPR/Win 11 + MSO\\'21/15 Month McAfee/Platinum Silver/Thin & Light- 1.59kg']"
      ]
     },
     "execution_count": 27,
     "metadata": {},
     "output_type": "execute_result"
    }
   ],
   "source": [
    "titles[0:11]"
   ]
  },
  {
   "cell_type": "code",
   "execution_count": 28,
   "id": "9e0d5f4a",
   "metadata": {},
   "outputs": [],
   "source": [
    "rating = driver.find_elements(By.XPATH,'//i[@class=\"a-icon a-icon-star-small a-star-small-4 aok-align-bottom\"]')\n",
    "\n",
    "for i in rating:\n",
    "    rating=i.text\n",
    "    ratings.append(rating)"
   ]
  },
  {
   "cell_type": "code",
   "execution_count": 29,
   "id": "664f7ce2",
   "metadata": {},
   "outputs": [
    {
     "data": {
      "text/plain": [
       "['', '', '', '', '', '', '', '', '', '', '', '', '']"
      ]
     },
     "execution_count": 29,
     "metadata": {},
     "output_type": "execute_result"
    }
   ],
   "source": [
    "ratings"
   ]
  },
  {
   "cell_type": "code",
   "execution_count": 31,
   "id": "e368dcf2",
   "metadata": {},
   "outputs": [],
   "source": [
    "price = driver.find_elements(By.XPATH,'//span[@class=\"a-price-whole\"]')\n",
    "for i in price:\n",
    "    price= i.text\n",
    "    item_price.append(price)"
   ]
  },
  {
   "cell_type": "code",
   "execution_count": 33,
   "id": "029fe751",
   "metadata": {},
   "outputs": [
    {
     "data": {
      "text/plain": [
       "['61,990',\n",
       " '49,800',\n",
       " '52,999',\n",
       " '77,490',\n",
       " '49,990',\n",
       " '62,933',\n",
       " '78,990',\n",
       " '27,998',\n",
       " '62,990',\n",
       " '61,990',\n",
       " '47,990']"
      ]
     },
     "execution_count": 33,
     "metadata": {},
     "output_type": "execute_result"
    }
   ],
   "source": [
    "item_price[0:11]"
   ]
  },
  {
   "cell_type": "code",
   "execution_count": null,
   "id": "f45c14d5",
   "metadata": {},
   "outputs": [],
   "source": [
    "Q6: Write a python program to scrape data for Top 1000 Quotes of All Time.\n",
    "The above task will be done in following steps:\n",
    "1. First get the webpagehttps://www.azquotes.com/\n",
    "2. Click on TopQuote\n",
    "3. Than scrap a)Quote b) Author c) Type Of Quotes\n"
   ]
  },
  {
   "cell_type": "code",
   "execution_count": 34,
   "id": "62420f3c",
   "metadata": {},
   "outputs": [],
   "source": [
    "driver = webdriver.Chrome()\n",
    "\n",
    "driver.get('https://www.azquotes.com/')"
   ]
  },
  {
   "cell_type": "code",
   "execution_count": 35,
   "id": "54f58f50",
   "metadata": {},
   "outputs": [],
   "source": [
    "top_quote = driver.find_element(By.XPATH,'/html/body/div[1]/div[1]/div[1]/div/div[3]/ul/li[5]/a')\n",
    "\n",
    "top_quote.click()"
   ]
  },
  {
   "cell_type": "code",
   "execution_count": 36,
   "id": "c1cde3a5",
   "metadata": {},
   "outputs": [],
   "source": [
    "quote =[]\n",
    "author =[]\n",
    "type_of_quotes=[]"
   ]
  },
  {
   "cell_type": "code",
   "execution_count": 37,
   "id": "62b1ba51",
   "metadata": {},
   "outputs": [
    {
     "data": {
      "text/plain": [
       "1100"
      ]
     },
     "execution_count": 37,
     "metadata": {},
     "output_type": "execute_result"
    }
   ],
   "source": [
    "start =0\n",
    "end =11\n",
    "\n",
    "for page in range(start,end):\n",
    "    quotes = driver.find_elements(By.XPATH,'//a[@class=\"title\"]')\n",
    "    for i in quotes:\n",
    "         quote.append(i.text)\n",
    "    next_button = driver.find_element(By.XPATH,'/html/body/div[1]/div[2]/div/div/div/div[1]/div/div[3]/li[12]/a')\n",
    "    next_button.click()\n",
    "    time.sleep(3)\n",
    "len(quote)"
   ]
  },
  {
   "cell_type": "code",
   "execution_count": 38,
   "id": "a4d75dd7",
   "metadata": {},
   "outputs": [
    {
     "data": {
      "text/plain": [
       "1100"
      ]
     },
     "execution_count": 38,
     "metadata": {},
     "output_type": "execute_result"
    }
   ],
   "source": [
    "start =0\n",
    "end =11\n",
    "\n",
    "for page in range(start,end):\n",
    "    authors = driver.find_elements(By.XPATH,'//div[@class=\"author\"]/a')\n",
    "    for i in authors:\n",
    "         author.append(i.text)\n",
    "    next_button = driver.find_element(By.XPATH,'/html/body/div[1]/div[2]/div/div/div/div[1]/div/div[3]/li[12]/a')\n",
    "    next_button.click()\n",
    "    time.sleep(3)\n",
    "len(author)"
   ]
  },
  {
   "cell_type": "code",
   "execution_count": 39,
   "id": "a6836749",
   "metadata": {},
   "outputs": [
    {
     "data": {
      "text/plain": [
       "1100"
      ]
     },
     "execution_count": 39,
     "metadata": {},
     "output_type": "execute_result"
    }
   ],
   "source": [
    "start =0\n",
    "end =11\n",
    "\n",
    "for page in range(start,end):\n",
    "    types = driver.find_elements(By.XPATH,'//div[@class=\"tags\"]')\n",
    "    for i in types:\n",
    "         type_of_quotes.append(i.text)\n",
    "    next_button = driver.find_element(By.XPATH,'/html/body/div[1]/div[2]/div/div/div/div[1]/div/div[3]/li[12]/a')\n",
    "    next_button.click()\n",
    "    time.sleep(3)\n",
    "len(type_of_quotes)"
   ]
  },
  {
   "cell_type": "code",
   "execution_count": null,
   "id": "a669cc17",
   "metadata": {},
   "outputs": [],
   "source": [
    "Q7: Write a python program to display list of respected former Prime Ministers of India (i.e. Name,\n",
    "Born-Dead, Term of office, Remarks) from https://www.jagranjosh.com/general-knowledge/list-of\u0002all-prime-ministers-of-india-1473165149-1\n",
    "scrap the mentioned data and make the DataFrame"
   ]
  },
  {
   "cell_type": "code",
   "execution_count": 41,
   "id": "47cde279",
   "metadata": {},
   "outputs": [],
   "source": [
    "driver = webdriver.Chrome()\n",
    "\n",
    "driver.get('https://www.jagranjosh.com/general-knowledge/list-of-all-prime-ministers-of-india-1473165149-1')"
   ]
  },
  {
   "cell_type": "code",
   "execution_count": 42,
   "id": "beea1542",
   "metadata": {},
   "outputs": [],
   "source": [
    "name=[]\n",
    "born_dead=[]\n",
    "term_of_office=[]\n",
    "remarks=[]"
   ]
  },
  {
   "cell_type": "code",
   "execution_count": null,
   "id": "8de73d5e",
   "metadata": {},
   "outputs": [],
   "source": [
    "names = driver.find_elements(By.XPATH,'/html/body/div[1]/main/div[1]/div[1]/article/div[3]/div[6]/div[1]/table/tbody/tr[2]/td[2]')\n",
    "for i in names:\n",
    "    names=i.text\n",
    "    name.append(names)\n",
    "len(name)"
   ]
  },
  {
   "cell_type": "code",
   "execution_count": null,
   "id": "69699979",
   "metadata": {},
   "outputs": [],
   "source": []
  }
 ],
 "metadata": {
  "kernelspec": {
   "display_name": "Python 3 (ipykernel)",
   "language": "python",
   "name": "python3"
  },
  "language_info": {
   "codemirror_mode": {
    "name": "ipython",
    "version": 3
   },
   "file_extension": ".py",
   "mimetype": "text/x-python",
   "name": "python",
   "nbconvert_exporter": "python",
   "pygments_lexer": "ipython3",
   "version": "3.11.5"
  }
 },
 "nbformat": 4,
 "nbformat_minor": 5
}
