{
 "cells": [
  {
   "cell_type": "code",
   "execution_count": null,
   "id": "7450e774",
   "metadata": {},
   "outputs": [],
   "source": [
    "from bs4 import BeautifulSoup\n",
    "\n",
    "import requests\n",
    "\n",
    "import pandas as pd"
   ]
  },
  {
   "cell_type": "code",
   "execution_count": null,
   "id": "ed81d77c",
   "metadata": {},
   "outputs": [],
   "source": [
    "# Q4: Write a python program to scrape first 10 product details which include product name , price , Image URL from\n",
    " https://www.bewakoof.com/bestseller?sort=popular "
   ]
  },
  {
   "cell_type": "code",
   "execution_count": null,
   "id": "20f33d2b",
   "metadata": {},
   "outputs": [],
   "source": [
    "url ='https://www.bewakoof.com/bestseller?sort=popular%20'\n",
    "\n",
    "page = requests.get(url)\n",
    "\n",
    "page"
   ]
  },
  {
   "cell_type": "code",
   "execution_count": null,
   "id": "494e2ab5",
   "metadata": {},
   "outputs": [],
   "source": [
    "soup = BeautifulSoup(page.content)\n",
    "\n",
    "soup"
   ]
  },
  {
   "cell_type": "code",
   "execution_count": null,
   "id": "490695e7",
   "metadata": {},
   "outputs": [],
   "source": [
    "product = []\n",
    "\n",
    "for i in soup.find_all('div',class_=\"productNaming bkf-ellipsis\"):\n",
    "    product.append(i.text)\n",
    "    \n",
    "product"
   ]
  },
  {
   "cell_type": "code",
   "execution_count": null,
   "id": "af49bd3c",
   "metadata": {},
   "outputs": [],
   "source": [
    "price = []\n",
    "\n",
    "for i in soup.find_all('div',class_=\"discountedPriceText clr-p-black false\"):\n",
    "    price.append(i.text.replace('₹','Rs.'))\n",
    "    \n",
    "price"
   ]
  },
  {
   "cell_type": "code",
   "execution_count": null,
   "id": "b4a3da07",
   "metadata": {},
   "outputs": [],
   "source": [
    "images = []\n",
    "\n",
    "for i in soup.find_all('img',class_=\"productImgTag\"):\n",
    "    images.append(i['src'])\n",
    "    \n",
    "images"
   ]
  },
  {
   "cell_type": "code",
   "execution_count": null,
   "id": "f9407eb0",
   "metadata": {},
   "outputs": [],
   "source": [
    "# Q:5Please visit https://www.cnbc.com/world/?region=world and scrap-a) headingsb) datec) News link"
   ]
  },
  {
   "cell_type": "code",
   "execution_count": null,
   "id": "06957d8e",
   "metadata": {},
   "outputs": [],
   "source": [
    "cnbc_page = requests.get('https://www.cnbc.com/world/?region=world')\n",
    "\n",
    "cnbc_page"
   ]
  },
  {
   "cell_type": "code",
   "execution_count": null,
   "id": "2bb2b0af",
   "metadata": {},
   "outputs": [],
   "source": [
    "cnbc_soup = BeautifulSoup(cnbc_page.content)\n",
    "\n",
    "cnbc_soup"
   ]
  },
  {
   "cell_type": "code",
   "execution_count": null,
   "id": "92079dd0",
   "metadata": {},
   "outputs": [],
   "source": [
    "headings = []\n",
    "\n",
    "for i in cnbc_soup.find_all('div',class_=\"RiverHeadline-headline RiverHeadline-hasThumbnail\"):\n",
    "    headings.append(i.text)\n",
    "    \n",
    "headings"
   ]
  },
  {
   "cell_type": "code",
   "execution_count": null,
   "id": "7c337116",
   "metadata": {},
   "outputs": [],
   "source": [
    "date =[]\n",
    "\n",
    "for i in cnbc_soup.find_all('span',class_=\"RiverByline-datePublished\"):\n",
    "    date.append(i.text)\n",
    "    \n",
    "date"
   ]
  },
  {
   "cell_type": "code",
   "execution_count": null,
   "id": "69409bac",
   "metadata": {},
   "outputs": [],
   "source": [
    "news_link=[]\n",
    "\n",
    "for i in cnbc_soup.find_all('span',class_=\"RiverByline-authorByline\"):\n",
    "    news_link.append(i.text)\n",
    "    \n",
    "news_link"
   ]
  },
  {
   "cell_type": "code",
   "execution_count": null,
   "id": "cb497744",
   "metadata": {},
   "outputs": [],
   "source": [
    "# Q6: Please visit https://www.keaipublishing.com/en/journals/artificial-intelligence-in-agriculture/most-downloaded\u0002articles/ and scrap\u0002 \n",
    "\n",
    "a) Paper titleb) datec) Author"
   ]
  },
  {
   "cell_type": "code",
   "execution_count": null,
   "id": "02f25359",
   "metadata": {},
   "outputs": [],
   "source": [
    "page_3 = requests.get('https://www.keaipublishing.com/en/journals/artificial-intelligence-in-agriculture/most-downloaded-articles/')\n",
    "\n",
    "page_3"
   ]
  },
  {
   "cell_type": "code",
   "execution_count": null,
   "id": "b6c1ca64",
   "metadata": {},
   "outputs": [],
   "source": [
    "soup_3= BeautifulSoup(page_3.content)\n",
    "\n",
    "soup_3"
   ]
  },
  {
   "cell_type": "code",
   "execution_count": null,
   "id": "83ade7d7",
   "metadata": {},
   "outputs": [],
   "source": [
    "paper_title = []\n",
    "\n",
    "for i in soup_3.find_all('h2',class_=\"h5 article-title\"):\n",
    "    paper_title.append(i.text.replace('\\n\\r\\n',''))\n",
    "    \n",
    "paper_title\n",
    "    "
   ]
  },
  {
   "cell_type": "code",
   "execution_count": null,
   "id": "d9ccb67c",
   "metadata": {},
   "outputs": [],
   "source": [
    "date =[]\n",
    "\n",
    "for i in soup_3.find_all('p',class_=\"article-date\"):\n",
    "    date.append(i.text)\n",
    "    \n",
    "date\n"
   ]
  },
  {
   "cell_type": "code",
   "execution_count": null,
   "id": "b19df37d",
   "metadata": {},
   "outputs": [],
   "source": [
    "author = []\n",
    "\n",
    "for i in soup_3.find_all('p',class_=\"article-authors\"):\n",
    "    author.append(i.text)\n",
    "    \n",
    "author"
   ]
  },
  {
   "cell_type": "code",
   "execution_count": null,
   "id": "fe80c351",
   "metadata": {},
   "outputs": [],
   "source": [
    "# Q1:Write a python program to display IMDB’s Top rated 100 Indian movies’ data\n",
    "https://www.imdb.com/list/ls056092300/ (i.e. name, rating, year ofrelease) and make data frame."
   ]
  },
  {
   "cell_type": "code",
   "execution_count": null,
   "id": "229bb055",
   "metadata": {},
   "outputs": [],
   "source": [
    "page = requests.get('https://www.imdb.com/list/ls056092300/')\n",
    "\n",
    "page"
   ]
  },
  {
   "cell_type": "code",
   "execution_count": null,
   "id": "5ffefe82",
   "metadata": {},
   "outputs": [],
   "source": [
    "soup_4 =BeautifulSoup(page.content)\n",
    "\n",
    "soup_4"
   ]
  },
  {
   "cell_type": "code",
   "execution_count": null,
   "id": "092010bc",
   "metadata": {},
   "outputs": [],
   "source": [
    "# Q2: Write a python program to scrape details of all the posts from https://www.patreon.com/coreyms .Scrape the\n",
    "heading, date, content and the likes for the video from the link for the youtube video from the post."
   ]
  },
  {
   "cell_type": "code",
   "execution_count": null,
   "id": "af18a944",
   "metadata": {},
   "outputs": [],
   "source": [
    "page=requests.get('https://www.patreon.com/coreyms')\n",
    "\n",
    "page"
   ]
  },
  {
   "cell_type": "code",
   "execution_count": null,
   "id": "62b684ca",
   "metadata": {},
   "outputs": [],
   "source": [
    "soup_5 = BeautifulSoup(page.content)\n",
    "\n",
    "soup_5"
   ]
  },
  {
   "cell_type": "code",
   "execution_count": null,
   "id": "d2bfb318",
   "metadata": {},
   "outputs": [],
   "source": [
    "heading =[]\n",
    "\n",
    "for i in soup_5.find_all('div',class_=\"sc-bBHxTw iloeMK\"):\n",
    "    heading.append(i.text)\n",
    "    \n",
    "heading"
   ]
  },
  {
   "cell_type": "code",
   "execution_count": null,
   "id": "482507e9",
   "metadata": {},
   "outputs": [],
   "source": [
    "date = []\n",
    "\n",
    "for i in soup_5.find_all('div',class_=\"sc-lgu5zg-0 dXpjXs\"):\n",
    "    date.append(i.text)\n",
    "    \n",
    "date"
   ]
  },
  {
   "cell_type": "code",
   "execution_count": null,
   "id": "6be7b078",
   "metadata": {},
   "outputs": [],
   "source": [
    "content = []\n",
    "\n",
    "for i in soup_5.find_all('div',class_=\"sc-cfnzm4-0 daxSFj\"):\n",
    "    content.append(i.text)\n",
    "    \n",
    "content"
   ]
  },
  {
   "cell_type": "code",
   "execution_count": null,
   "id": "920f620b",
   "metadata": {},
   "outputs": [],
   "source": [
    "likes=[]\n",
    "\n",
    "for i in soup_5.find_all('div',class_=\"sc-jrQzAO cENdHk\"):\n",
    "    likes.append(i.text)\n",
    "    \n",
    "likes"
   ]
  },
  {
   "cell_type": "code",
   "execution_count": null,
   "id": "fb431dfb",
   "metadata": {},
   "outputs": [],
   "source": [
    "# Q:3 Write a python program to scrape house details from mentioned URL. It should include house title, location,\n",
    "area, EMI and price from https://www.nobroker.in/ .Enter three localities which are Indira Nagar, Jayanagar,\n",
    "Rajaji Nagar."
   ]
  },
  {
   "cell_type": "code",
   "execution_count": null,
   "id": "2f43dc65",
   "metadata": {},
   "outputs": [],
   "source": [
    "page_6 = requests.get(\"https://www.nobroker.in/property/rent/bangalore/multiple?searchParam=W3sibGF0IjoxMi45NzgzNjkyLCJsb24iOjc3LjY0MDgzNTYsInBsYWNlSWQiOiJDaElKa1FOM0dLUVdyanNSTmhCUUpyaEdEN1UiLCJwbGFjZU5hbWUiOiJJbmRpcmFuYWdhciJ9LHsibGF0IjoxMi45MzA3NzM1LCJsb24iOjc3LjU4MzgzMDIsInBsYWNlSWQiOiJDaElKMmRkbFo1Z1ZyanNSaDFCT0FhZi1vcnMiLCJwbGFjZU5hbWUiOiJKYXlhbmFnYXIifSx7ImxhdCI6MTIuOTk4MTczMiwibG9uIjo3Ny41NTMwNDQ1OTk5OTk5OSwicGxhY2VJZCI6IkNoSUp4Zlc0RFBNOXJqc1JLc05URy01cF9RUSIsInBsYWNlTmFtZSI6IlJhamFqaW5hZ2FyIn1d&radius=2.0&sharedAccomodation=0&city=bangalore&locality=Indiranagar,Jayanagar,Rajajinagar#signup-login\")\n",
    "page_6"
   ]
  },
  {
   "cell_type": "code",
   "execution_count": null,
   "id": "efd892f2",
   "metadata": {},
   "outputs": [],
   "source": [
    "soup_no_broker = BeautifulSoup(page_6.content)\n",
    "\n",
    "soup_no_broker"
   ]
  },
  {
   "cell_type": "code",
   "execution_count": null,
   "id": "ffcab73e",
   "metadata": {},
   "outputs": [],
   "source": [
    "house_title =[]\n",
    "\n",
    "for i in soup_no_broker.find_all('a',class_=\"overflow-hidden overflow-ellipsis whitespace-nowrap max-w-80pe po:max-w-full\"):\n",
    "    house_title.append(i.text)\n",
    "    \n",
    "house_title"
   ]
  },
  {
   "cell_type": "code",
   "execution_count": null,
   "id": "974dc91d",
   "metadata": {},
   "outputs": [],
   "source": [
    "location = []\n",
    "\n",
    "for i in soup_no_broker.find_all('div',class_=\"flex\"):\n",
    "    location.append(i.text)\n",
    "    \n",
    "location\n",
    "    "
   ]
  },
  {
   "cell_type": "code",
   "execution_count": null,
   "id": "307d063e",
   "metadata": {},
   "outputs": [],
   "source": []
  }
 ],
 "metadata": {
  "kernelspec": {
   "display_name": "Python 3 (ipykernel)",
   "language": "python",
   "name": "python3"
  },
  "language_info": {
   "codemirror_mode": {
    "name": "ipython",
    "version": 3
   },
   "file_extension": ".py",
   "mimetype": "text/x-python",
   "name": "python",
   "nbconvert_exporter": "python",
   "pygments_lexer": "ipython3",
   "version": "3.11.5"
  }
 },
 "nbformat": 4,
 "nbformat_minor": 5
}
