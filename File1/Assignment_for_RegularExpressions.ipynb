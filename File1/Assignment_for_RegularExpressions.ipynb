{
 "cells": [
  {
   "cell_type": "code",
   "execution_count": 1,
   "id": "01950b5d",
   "metadata": {},
   "outputs": [],
   "source": [
    "import pandas as pd\n",
    "import re"
   ]
  },
  {
   "cell_type": "code",
   "execution_count": null,
   "id": "656ce53b",
   "metadata": {},
   "outputs": [],
   "source": [
    "# Question 1- Write a Python program to replace all occurrences of a space, comma, or dot with a colon.\n",
    "\n",
    "##Sample Text- 'Python Exercises, PHP exercises.'\n",
    "##Expected Output: Python:Exercises::PHP:exercises:"
   ]
  },
  {
   "cell_type": "code",
   "execution_count": 28,
   "id": "0ab58bf8",
   "metadata": {},
   "outputs": [
    {
     "name": "stdout",
     "output_type": "stream",
     "text": [
      "Python:Exercises::PHP:exercises:\n"
     ]
    }
   ],
   "source": [
    "#Out_put :Approach\n",
    "\n",
    "text ='Python Exercises, PHP exercises.'\n",
    "out_put = re.sub(r\"\\s+\",':',text)  \n",
    "s_final = re.sub(r\",\",\":\",out_put)\n",
    "final_text=re.sub(r\".$\",\":\",s_final)\n",
    "print(final_text)"
   ]
  },
  {
   "cell_type": "code",
   "execution_count": null,
   "id": "cb6a4030",
   "metadata": {},
   "outputs": [],
   "source": [
    "##Question 2-  Create a dataframe using the dictionary below and remove everything (commas (,), !, XXXX, ;, etc.) from the columns except words.\n",
    "\n",
    "##Dictionary- {'SUMMARY' : ['hello, world!', 'XXXXX test', '123four, five:; six...']}\n",
    "#Expected output-\n",
    "0      hello world\n",
    "1             test\n",
    "2    four five six\n"
   ]
  },
  {
   "cell_type": "code",
   "execution_count": 16,
   "id": "76446faf",
   "metadata": {},
   "outputs": [
    {
     "data": {
      "text/plain": [
       "0      hello world\n",
       "1             test\n",
       "2    four five six\n",
       "Name: SUMMARY, dtype: object"
      ]
     },
     "execution_count": 16,
     "metadata": {},
     "output_type": "execute_result"
    }
   ],
   "source": [
    "#Out_put :Approach\n",
    "dict= {'SUMMARY' : ['hello, world!', 'XXXXX test', '123four, five:; six...']}\n",
    "df = pd.DataFrame(dict)\n",
    "df\n",
    "pattern = r'[^a-z\\s]'\n",
    "result = df['SUMMARY'].str.replace(pattern, '', regex=True)\n",
    "result"
   ]
  },
  {
   "cell_type": "code",
   "execution_count": null,
   "id": "1ce27766",
   "metadata": {},
   "outputs": [],
   "source": [
    "##Question 3- Create a function in python to find all words that are at least 4 characters long in a string. The use of the re.compile() method is mandatory."
   ]
  },
  {
   "cell_type": "code",
   "execution_count": 32,
   "id": "3b9d1b2c",
   "metadata": {},
   "outputs": [
    {
     "name": "stdout",
     "output_type": "stream",
     "text": [
      "['frui', 'very', 'heal', 'usef', 'cons', 'morn', 'time']\n"
     ]
    }
   ],
   "source": [
    "str = 'Dry fruits are very healty and usefull to consume in the morning time '\n",
    "pattern = \"\\w{4}\"\n",
    "regex_pattern = re.compile(pattern)\n",
    "all_four_char = regex_pattern.findall(str)\n",
    "print(all_four_char)\n"
   ]
  },
  {
   "cell_type": "code",
   "execution_count": null,
   "id": "84e18d2c",
   "metadata": {},
   "outputs": [],
   "source": [
    "##Question 4- Create a function in python to find all three, four, and five character words in a string. The use of the re.compile() method is mandatory."
   ]
  },
  {
   "cell_type": "code",
   "execution_count": 35,
   "id": "2b430555",
   "metadata": {},
   "outputs": [
    {
     "name": "stdout",
     "output_type": "stream",
     "text": [
      "['Dry', 'fruit', 'are', 'very', 'healt', 'and', 'usefu', 'consu', 'the', 'morni', 'time']\n"
     ]
    }
   ],
   "source": [
    "str = 'Dry fruits are very healty and usefull to consume in the morning time '\n",
    "pattern = \"\\w{3,5}\"\n",
    "regex_pattern = re.compile(pattern)\n",
    "three_four__five_char = regex_pattern.findall(str)\n",
    "print(three_four__five_char)\n"
   ]
  },
  {
   "cell_type": "raw",
   "id": "f6ddd095",
   "metadata": {},
   "source": [
    "Question 5- Create a function in Python to remove the parenthesis in a list of strings. The use of the re.compile() method is mandatory.\n",
    "Sample Text: [\"example (.com)\", \"hr@fliprobo (.com)\", \"github (.com)\", \"Hello (Data Science World)\", \"Data (Scientist)\"]\n",
    "Expected Output:\n",
    "example.com\n",
    "hr@fliprobo.com\n",
    "github.com\n",
    "Hello Data Science World\n",
    "Data Scientist"
   ]
  },
  {
   "cell_type": "code",
   "execution_count": null,
   "id": "24c99b6b",
   "metadata": {},
   "outputs": [],
   "source": [
    "\n"
   ]
  },
  {
   "cell_type": "raw",
   "id": "d87e2dc9",
   "metadata": {},
   "source": [
    "Question 6- Write a python program to remove the parenthesis area from the text stored in the text file using Regular Expression.\n",
    "Sample Text: [\"example (.com)\", \"hr@fliprobo (.com)\", \"github (.com)\", \"Hello (Data Science World)\", \"Data (Scientist)\"]\n",
    "Expected Output: [\"example\", \"hr@fliprobo\", \"github\", \"Hello\", \"Data\"]\n",
    "Note- Store given sample text in the text file and then to remove the parenthesis area from the text.\n"
   ]
  },
  {
   "cell_type": "code",
   "execution_count": null,
   "id": "56889216",
   "metadata": {},
   "outputs": [],
   "source": []
  },
  {
   "cell_type": "code",
   "execution_count": null,
   "id": "10ae2592",
   "metadata": {},
   "outputs": [],
   "source": [
    "# Question 7- Write a regular expression in Python to split a string into uppercase letters.\n",
    "Sample text: “ImportanceOfRegularExpressionsInPython”\n",
    "Expected Output: [‘Importance’, ‘Of’, ‘Regular’, ‘Expression’, ‘In’, ‘Python’]\n"
   ]
  },
  {
   "cell_type": "code",
   "execution_count": 153,
   "id": "1b1e3b33",
   "metadata": {},
   "outputs": [
    {
     "name": "stdout",
     "output_type": "stream",
     "text": [
      "['Importance', 'Of', 'Regular', 'Expressions', 'In', 'Python']\n"
     ]
    }
   ],
   "source": [
    "text = \"ImportanceOfRegularExpressionsInPython\"\n",
    "result = re.findall('[A-Z][^A-Z]*',text)\n",
    "print(result)"
   ]
  },
  {
   "cell_type": "code",
   "execution_count": null,
   "id": "c6beac25",
   "metadata": {},
   "outputs": [],
   "source": [
    "##Question 8- Create a function in python to insert spaces between words starting with numbers.\n",
    "Sample Text: “RegularExpression1IsAn2ImportantTopic3InPython\"\n",
    "Expected Output: RegularExpression 1IsAn 2ImportantTopic 3InPython\n"
   ]
  },
  {
   "cell_type": "code",
   "execution_count": 48,
   "id": "8aad3690",
   "metadata": {},
   "outputs": [
    {
     "name": "stdout",
     "output_type": "stream",
     "text": [
      "['RegularExpression', '1IsAn', '2ImportantTopic', '3InPython']\n"
     ]
    }
   ],
   "source": [
    "text ='RegularExpression1IsAn2ImportantTopic3InPython'\n",
    "pattern = \"(\\d?[A-Za-z]+)\"\n",
    "result = re.findall(pattern,text)\n",
    "print (result)"
   ]
  },
  {
   "cell_type": "code",
   "execution_count": null,
   "id": "7e4bfc68",
   "metadata": {},
   "outputs": [],
   "source": [
    "##Question 9- Create a function in python to insert spaces between words starting with capital letters or with numbers.\n",
    "Sample Text: “RegularExpression1IsAn2ImportantTopic3InPython\"\n",
    "Expected Output:  RegularExpression 1 IsAn 2 ImportantTopic 3 InPython\n"
   ]
  },
  {
   "cell_type": "code",
   "execution_count": 69,
   "id": "99959b7d",
   "metadata": {},
   "outputs": [
    {
     "name": "stdout",
     "output_type": "stream",
     "text": [
      "['RegularExpression', '1', 'IsAn', '2', 'ImportantTopic', '3', 'InPython']\n"
     ]
    }
   ],
   "source": [
    "text ='RegularExpression1IsAn2ImportantTopic3InPython'\n",
    "pattern = \"(\\d+|[A-Z]?[A-Za-z]+)\"\n",
    "result = re.findall(pattern,text)\n",
    "print (result)"
   ]
  },
  {
   "cell_type": "code",
   "execution_count": null,
   "id": "b6750975",
   "metadata": {},
   "outputs": [],
   "source": [
    "##Question 10- Use the github link below to read the data and create a dataframe. After creating the dataframe extract the first 6 letters of each country and store in the dataframe under a new column called first_five_letters.\n",
    "Github Link-  https://raw.githubusercontent.com/dsrscientist/DSData/master/happiness_score_dataset.csv\n"
   ]
  },
  {
   "cell_type": "code",
   "execution_count": 71,
   "id": "29c484cb",
   "metadata": {},
   "outputs": [
    {
     "data": {
      "text/html": [
       "<div>\n",
       "<style scoped>\n",
       "    .dataframe tbody tr th:only-of-type {\n",
       "        vertical-align: middle;\n",
       "    }\n",
       "\n",
       "    .dataframe tbody tr th {\n",
       "        vertical-align: top;\n",
       "    }\n",
       "\n",
       "    .dataframe thead th {\n",
       "        text-align: right;\n",
       "    }\n",
       "</style>\n",
       "<table border=\"1\" class=\"dataframe\">\n",
       "  <thead>\n",
       "    <tr style=\"text-align: right;\">\n",
       "      <th></th>\n",
       "      <th>Country</th>\n",
       "      <th>Region</th>\n",
       "      <th>Happiness Rank</th>\n",
       "      <th>Happiness Score</th>\n",
       "      <th>Standard Error</th>\n",
       "      <th>Economy (GDP per Capita)</th>\n",
       "      <th>Family</th>\n",
       "      <th>Health (Life Expectancy)</th>\n",
       "      <th>Freedom</th>\n",
       "      <th>Trust (Government Corruption)</th>\n",
       "      <th>Generosity</th>\n",
       "      <th>Dystopia Residual</th>\n",
       "    </tr>\n",
       "  </thead>\n",
       "  <tbody>\n",
       "    <tr>\n",
       "      <th>0</th>\n",
       "      <td>Switzerland</td>\n",
       "      <td>Western Europe</td>\n",
       "      <td>1</td>\n",
       "      <td>7.587</td>\n",
       "      <td>0.03411</td>\n",
       "      <td>1.39651</td>\n",
       "      <td>1.34951</td>\n",
       "      <td>0.94143</td>\n",
       "      <td>0.66557</td>\n",
       "      <td>0.41978</td>\n",
       "      <td>0.29678</td>\n",
       "      <td>2.51738</td>\n",
       "    </tr>\n",
       "    <tr>\n",
       "      <th>1</th>\n",
       "      <td>Iceland</td>\n",
       "      <td>Western Europe</td>\n",
       "      <td>2</td>\n",
       "      <td>7.561</td>\n",
       "      <td>0.04884</td>\n",
       "      <td>1.30232</td>\n",
       "      <td>1.40223</td>\n",
       "      <td>0.94784</td>\n",
       "      <td>0.62877</td>\n",
       "      <td>0.14145</td>\n",
       "      <td>0.43630</td>\n",
       "      <td>2.70201</td>\n",
       "    </tr>\n",
       "    <tr>\n",
       "      <th>2</th>\n",
       "      <td>Denmark</td>\n",
       "      <td>Western Europe</td>\n",
       "      <td>3</td>\n",
       "      <td>7.527</td>\n",
       "      <td>0.03328</td>\n",
       "      <td>1.32548</td>\n",
       "      <td>1.36058</td>\n",
       "      <td>0.87464</td>\n",
       "      <td>0.64938</td>\n",
       "      <td>0.48357</td>\n",
       "      <td>0.34139</td>\n",
       "      <td>2.49204</td>\n",
       "    </tr>\n",
       "    <tr>\n",
       "      <th>3</th>\n",
       "      <td>Norway</td>\n",
       "      <td>Western Europe</td>\n",
       "      <td>4</td>\n",
       "      <td>7.522</td>\n",
       "      <td>0.03880</td>\n",
       "      <td>1.45900</td>\n",
       "      <td>1.33095</td>\n",
       "      <td>0.88521</td>\n",
       "      <td>0.66973</td>\n",
       "      <td>0.36503</td>\n",
       "      <td>0.34699</td>\n",
       "      <td>2.46531</td>\n",
       "    </tr>\n",
       "    <tr>\n",
       "      <th>4</th>\n",
       "      <td>Canada</td>\n",
       "      <td>North America</td>\n",
       "      <td>5</td>\n",
       "      <td>7.427</td>\n",
       "      <td>0.03553</td>\n",
       "      <td>1.32629</td>\n",
       "      <td>1.32261</td>\n",
       "      <td>0.90563</td>\n",
       "      <td>0.63297</td>\n",
       "      <td>0.32957</td>\n",
       "      <td>0.45811</td>\n",
       "      <td>2.45176</td>\n",
       "    </tr>\n",
       "  </tbody>\n",
       "</table>\n",
       "</div>"
      ],
      "text/plain": [
       "       Country          Region  Happiness Rank  Happiness Score  \\\n",
       "0  Switzerland  Western Europe               1            7.587   \n",
       "1      Iceland  Western Europe               2            7.561   \n",
       "2      Denmark  Western Europe               3            7.527   \n",
       "3       Norway  Western Europe               4            7.522   \n",
       "4       Canada   North America               5            7.427   \n",
       "\n",
       "   Standard Error  Economy (GDP per Capita)   Family  \\\n",
       "0         0.03411                   1.39651  1.34951   \n",
       "1         0.04884                   1.30232  1.40223   \n",
       "2         0.03328                   1.32548  1.36058   \n",
       "3         0.03880                   1.45900  1.33095   \n",
       "4         0.03553                   1.32629  1.32261   \n",
       "\n",
       "   Health (Life Expectancy)  Freedom  Trust (Government Corruption)  \\\n",
       "0                   0.94143  0.66557                        0.41978   \n",
       "1                   0.94784  0.62877                        0.14145   \n",
       "2                   0.87464  0.64938                        0.48357   \n",
       "3                   0.88521  0.66973                        0.36503   \n",
       "4                   0.90563  0.63297                        0.32957   \n",
       "\n",
       "   Generosity  Dystopia Residual  \n",
       "0     0.29678            2.51738  \n",
       "1     0.43630            2.70201  \n",
       "2     0.34139            2.49204  \n",
       "3     0.34699            2.46531  \n",
       "4     0.45811            2.45176  "
      ]
     },
     "execution_count": 71,
     "metadata": {},
     "output_type": "execute_result"
    }
   ],
   "source": [
    "df = pd.read_csv('https://raw.githubusercontent.com/dsrscientist/DSData/master/happiness_score_dataset.csv')\n",
    "df.head()"
   ]
  },
  {
   "cell_type": "code",
   "execution_count": 72,
   "id": "effa2c07",
   "metadata": {},
   "outputs": [
    {
     "data": {
      "text/plain": [
       "0      Switzerland\n",
       "1          Iceland\n",
       "2          Denmark\n",
       "3           Norway\n",
       "4           Canada\n",
       "          ...     \n",
       "153         Rwanda\n",
       "154          Benin\n",
       "155          Syria\n",
       "156        Burundi\n",
       "157           Togo\n",
       "Name: Country, Length: 158, dtype: object"
      ]
     },
     "execution_count": 72,
     "metadata": {},
     "output_type": "execute_result"
    }
   ],
   "source": [
    "df['Country']"
   ]
  },
  {
   "cell_type": "code",
   "execution_count": 94,
   "id": "13bafce6",
   "metadata": {},
   "outputs": [
    {
     "data": {
      "text/html": [
       "<div>\n",
       "<style scoped>\n",
       "    .dataframe tbody tr th:only-of-type {\n",
       "        vertical-align: middle;\n",
       "    }\n",
       "\n",
       "    .dataframe tbody tr th {\n",
       "        vertical-align: top;\n",
       "    }\n",
       "\n",
       "    .dataframe thead th {\n",
       "        text-align: right;\n",
       "    }\n",
       "</style>\n",
       "<table border=\"1\" class=\"dataframe\">\n",
       "  <thead>\n",
       "    <tr style=\"text-align: right;\">\n",
       "      <th></th>\n",
       "      <th>0</th>\n",
       "    </tr>\n",
       "  </thead>\n",
       "  <tbody>\n",
       "    <tr>\n",
       "      <th>0</th>\n",
       "      <td>Switze</td>\n",
       "    </tr>\n",
       "    <tr>\n",
       "      <th>1</th>\n",
       "      <td>Icelan</td>\n",
       "    </tr>\n",
       "    <tr>\n",
       "      <th>2</th>\n",
       "      <td>Denmar</td>\n",
       "    </tr>\n",
       "    <tr>\n",
       "      <th>3</th>\n",
       "      <td>Norway</td>\n",
       "    </tr>\n",
       "    <tr>\n",
       "      <th>4</th>\n",
       "      <td>Canada</td>\n",
       "    </tr>\n",
       "    <tr>\n",
       "      <th>...</th>\n",
       "      <td>...</td>\n",
       "    </tr>\n",
       "    <tr>\n",
       "      <th>153</th>\n",
       "      <td>Rwanda</td>\n",
       "    </tr>\n",
       "    <tr>\n",
       "      <th>154</th>\n",
       "      <td>NaN</td>\n",
       "    </tr>\n",
       "    <tr>\n",
       "      <th>155</th>\n",
       "      <td>NaN</td>\n",
       "    </tr>\n",
       "    <tr>\n",
       "      <th>156</th>\n",
       "      <td>Burund</td>\n",
       "    </tr>\n",
       "    <tr>\n",
       "      <th>157</th>\n",
       "      <td>NaN</td>\n",
       "    </tr>\n",
       "  </tbody>\n",
       "</table>\n",
       "<p>158 rows × 1 columns</p>\n",
       "</div>"
      ],
      "text/plain": [
       "          0\n",
       "0    Switze\n",
       "1    Icelan\n",
       "2    Denmar\n",
       "3    Norway\n",
       "4    Canada\n",
       "..      ...\n",
       "153  Rwanda\n",
       "154     NaN\n",
       "155     NaN\n",
       "156  Burund\n",
       "157     NaN\n",
       "\n",
       "[158 rows x 1 columns]"
      ]
     },
     "execution_count": 94,
     "metadata": {},
     "output_type": "execute_result"
    }
   ],
   "source": [
    "pattern = '(\\w{6})'\n",
    "first_five_letter =df['Country'].str.extract(pattern,expand =True)\n",
    "first_five_letter"
   ]
  },
  {
   "cell_type": "code",
   "execution_count": 95,
   "id": "3aaebb84",
   "metadata": {},
   "outputs": [
    {
     "data": {
      "text/html": [
       "<div>\n",
       "<style scoped>\n",
       "    .dataframe tbody tr th:only-of-type {\n",
       "        vertical-align: middle;\n",
       "    }\n",
       "\n",
       "    .dataframe tbody tr th {\n",
       "        vertical-align: top;\n",
       "    }\n",
       "\n",
       "    .dataframe thead th {\n",
       "        text-align: right;\n",
       "    }\n",
       "</style>\n",
       "<table border=\"1\" class=\"dataframe\">\n",
       "  <thead>\n",
       "    <tr style=\"text-align: right;\">\n",
       "      <th></th>\n",
       "      <th>Country</th>\n",
       "      <th>Region</th>\n",
       "      <th>Happiness Rank</th>\n",
       "      <th>Happiness Score</th>\n",
       "      <th>Standard Error</th>\n",
       "      <th>Economy (GDP per Capita)</th>\n",
       "      <th>Family</th>\n",
       "      <th>Health (Life Expectancy)</th>\n",
       "      <th>Freedom</th>\n",
       "      <th>Trust (Government Corruption)</th>\n",
       "      <th>Generosity</th>\n",
       "      <th>Dystopia Residual</th>\n",
       "      <th>first_five_letter</th>\n",
       "    </tr>\n",
       "  </thead>\n",
       "  <tbody>\n",
       "    <tr>\n",
       "      <th>0</th>\n",
       "      <td>Switzerland</td>\n",
       "      <td>Western Europe</td>\n",
       "      <td>1</td>\n",
       "      <td>7.587</td>\n",
       "      <td>0.03411</td>\n",
       "      <td>1.39651</td>\n",
       "      <td>1.34951</td>\n",
       "      <td>0.94143</td>\n",
       "      <td>0.66557</td>\n",
       "      <td>0.41978</td>\n",
       "      <td>0.29678</td>\n",
       "      <td>2.51738</td>\n",
       "      <td>Switze</td>\n",
       "    </tr>\n",
       "    <tr>\n",
       "      <th>1</th>\n",
       "      <td>Iceland</td>\n",
       "      <td>Western Europe</td>\n",
       "      <td>2</td>\n",
       "      <td>7.561</td>\n",
       "      <td>0.04884</td>\n",
       "      <td>1.30232</td>\n",
       "      <td>1.40223</td>\n",
       "      <td>0.94784</td>\n",
       "      <td>0.62877</td>\n",
       "      <td>0.14145</td>\n",
       "      <td>0.43630</td>\n",
       "      <td>2.70201</td>\n",
       "      <td>Icelan</td>\n",
       "    </tr>\n",
       "    <tr>\n",
       "      <th>2</th>\n",
       "      <td>Denmark</td>\n",
       "      <td>Western Europe</td>\n",
       "      <td>3</td>\n",
       "      <td>7.527</td>\n",
       "      <td>0.03328</td>\n",
       "      <td>1.32548</td>\n",
       "      <td>1.36058</td>\n",
       "      <td>0.87464</td>\n",
       "      <td>0.64938</td>\n",
       "      <td>0.48357</td>\n",
       "      <td>0.34139</td>\n",
       "      <td>2.49204</td>\n",
       "      <td>Denmar</td>\n",
       "    </tr>\n",
       "    <tr>\n",
       "      <th>3</th>\n",
       "      <td>Norway</td>\n",
       "      <td>Western Europe</td>\n",
       "      <td>4</td>\n",
       "      <td>7.522</td>\n",
       "      <td>0.03880</td>\n",
       "      <td>1.45900</td>\n",
       "      <td>1.33095</td>\n",
       "      <td>0.88521</td>\n",
       "      <td>0.66973</td>\n",
       "      <td>0.36503</td>\n",
       "      <td>0.34699</td>\n",
       "      <td>2.46531</td>\n",
       "      <td>Norway</td>\n",
       "    </tr>\n",
       "    <tr>\n",
       "      <th>4</th>\n",
       "      <td>Canada</td>\n",
       "      <td>North America</td>\n",
       "      <td>5</td>\n",
       "      <td>7.427</td>\n",
       "      <td>0.03553</td>\n",
       "      <td>1.32629</td>\n",
       "      <td>1.32261</td>\n",
       "      <td>0.90563</td>\n",
       "      <td>0.63297</td>\n",
       "      <td>0.32957</td>\n",
       "      <td>0.45811</td>\n",
       "      <td>2.45176</td>\n",
       "      <td>Canada</td>\n",
       "    </tr>\n",
       "    <tr>\n",
       "      <th>...</th>\n",
       "      <td>...</td>\n",
       "      <td>...</td>\n",
       "      <td>...</td>\n",
       "      <td>...</td>\n",
       "      <td>...</td>\n",
       "      <td>...</td>\n",
       "      <td>...</td>\n",
       "      <td>...</td>\n",
       "      <td>...</td>\n",
       "      <td>...</td>\n",
       "      <td>...</td>\n",
       "      <td>...</td>\n",
       "      <td>...</td>\n",
       "    </tr>\n",
       "    <tr>\n",
       "      <th>153</th>\n",
       "      <td>Rwanda</td>\n",
       "      <td>Sub-Saharan Africa</td>\n",
       "      <td>154</td>\n",
       "      <td>3.465</td>\n",
       "      <td>0.03464</td>\n",
       "      <td>0.22208</td>\n",
       "      <td>0.77370</td>\n",
       "      <td>0.42864</td>\n",
       "      <td>0.59201</td>\n",
       "      <td>0.55191</td>\n",
       "      <td>0.22628</td>\n",
       "      <td>0.67042</td>\n",
       "      <td>Rwanda</td>\n",
       "    </tr>\n",
       "    <tr>\n",
       "      <th>154</th>\n",
       "      <td>Benin</td>\n",
       "      <td>Sub-Saharan Africa</td>\n",
       "      <td>155</td>\n",
       "      <td>3.340</td>\n",
       "      <td>0.03656</td>\n",
       "      <td>0.28665</td>\n",
       "      <td>0.35386</td>\n",
       "      <td>0.31910</td>\n",
       "      <td>0.48450</td>\n",
       "      <td>0.08010</td>\n",
       "      <td>0.18260</td>\n",
       "      <td>1.63328</td>\n",
       "      <td>NaN</td>\n",
       "    </tr>\n",
       "    <tr>\n",
       "      <th>155</th>\n",
       "      <td>Syria</td>\n",
       "      <td>Middle East and Northern Africa</td>\n",
       "      <td>156</td>\n",
       "      <td>3.006</td>\n",
       "      <td>0.05015</td>\n",
       "      <td>0.66320</td>\n",
       "      <td>0.47489</td>\n",
       "      <td>0.72193</td>\n",
       "      <td>0.15684</td>\n",
       "      <td>0.18906</td>\n",
       "      <td>0.47179</td>\n",
       "      <td>0.32858</td>\n",
       "      <td>NaN</td>\n",
       "    </tr>\n",
       "    <tr>\n",
       "      <th>156</th>\n",
       "      <td>Burundi</td>\n",
       "      <td>Sub-Saharan Africa</td>\n",
       "      <td>157</td>\n",
       "      <td>2.905</td>\n",
       "      <td>0.08658</td>\n",
       "      <td>0.01530</td>\n",
       "      <td>0.41587</td>\n",
       "      <td>0.22396</td>\n",
       "      <td>0.11850</td>\n",
       "      <td>0.10062</td>\n",
       "      <td>0.19727</td>\n",
       "      <td>1.83302</td>\n",
       "      <td>Burund</td>\n",
       "    </tr>\n",
       "    <tr>\n",
       "      <th>157</th>\n",
       "      <td>Togo</td>\n",
       "      <td>Sub-Saharan Africa</td>\n",
       "      <td>158</td>\n",
       "      <td>2.839</td>\n",
       "      <td>0.06727</td>\n",
       "      <td>0.20868</td>\n",
       "      <td>0.13995</td>\n",
       "      <td>0.28443</td>\n",
       "      <td>0.36453</td>\n",
       "      <td>0.10731</td>\n",
       "      <td>0.16681</td>\n",
       "      <td>1.56726</td>\n",
       "      <td>NaN</td>\n",
       "    </tr>\n",
       "  </tbody>\n",
       "</table>\n",
       "<p>158 rows × 13 columns</p>\n",
       "</div>"
      ],
      "text/plain": [
       "         Country                           Region  Happiness Rank  \\\n",
       "0    Switzerland                   Western Europe               1   \n",
       "1        Iceland                   Western Europe               2   \n",
       "2        Denmark                   Western Europe               3   \n",
       "3         Norway                   Western Europe               4   \n",
       "4         Canada                    North America               5   \n",
       "..           ...                              ...             ...   \n",
       "153       Rwanda               Sub-Saharan Africa             154   \n",
       "154        Benin               Sub-Saharan Africa             155   \n",
       "155        Syria  Middle East and Northern Africa             156   \n",
       "156      Burundi               Sub-Saharan Africa             157   \n",
       "157         Togo               Sub-Saharan Africa             158   \n",
       "\n",
       "     Happiness Score  Standard Error  Economy (GDP per Capita)   Family  \\\n",
       "0              7.587         0.03411                   1.39651  1.34951   \n",
       "1              7.561         0.04884                   1.30232  1.40223   \n",
       "2              7.527         0.03328                   1.32548  1.36058   \n",
       "3              7.522         0.03880                   1.45900  1.33095   \n",
       "4              7.427         0.03553                   1.32629  1.32261   \n",
       "..               ...             ...                       ...      ...   \n",
       "153            3.465         0.03464                   0.22208  0.77370   \n",
       "154            3.340         0.03656                   0.28665  0.35386   \n",
       "155            3.006         0.05015                   0.66320  0.47489   \n",
       "156            2.905         0.08658                   0.01530  0.41587   \n",
       "157            2.839         0.06727                   0.20868  0.13995   \n",
       "\n",
       "     Health (Life Expectancy)  Freedom  Trust (Government Corruption)  \\\n",
       "0                     0.94143  0.66557                        0.41978   \n",
       "1                     0.94784  0.62877                        0.14145   \n",
       "2                     0.87464  0.64938                        0.48357   \n",
       "3                     0.88521  0.66973                        0.36503   \n",
       "4                     0.90563  0.63297                        0.32957   \n",
       "..                        ...      ...                            ...   \n",
       "153                   0.42864  0.59201                        0.55191   \n",
       "154                   0.31910  0.48450                        0.08010   \n",
       "155                   0.72193  0.15684                        0.18906   \n",
       "156                   0.22396  0.11850                        0.10062   \n",
       "157                   0.28443  0.36453                        0.10731   \n",
       "\n",
       "     Generosity  Dystopia Residual first_five_letter  \n",
       "0       0.29678            2.51738            Switze  \n",
       "1       0.43630            2.70201            Icelan  \n",
       "2       0.34139            2.49204            Denmar  \n",
       "3       0.34699            2.46531            Norway  \n",
       "4       0.45811            2.45176            Canada  \n",
       "..          ...                ...               ...  \n",
       "153     0.22628            0.67042            Rwanda  \n",
       "154     0.18260            1.63328               NaN  \n",
       "155     0.47179            0.32858               NaN  \n",
       "156     0.19727            1.83302            Burund  \n",
       "157     0.16681            1.56726               NaN  \n",
       "\n",
       "[158 rows x 13 columns]"
      ]
     },
     "execution_count": 95,
     "metadata": {},
     "output_type": "execute_result"
    }
   ],
   "source": [
    "df['first_five_letter'] = first_five_letter\n",
    "df"
   ]
  },
  {
   "cell_type": "code",
   "execution_count": null,
   "id": "e328e8a8",
   "metadata": {},
   "outputs": [],
   "source": [
    "##Question 11- Write a Python program to match a string that contains only upper and lowercase letters, numbers, and underscores."
   ]
  },
  {
   "cell_type": "code",
   "execution_count": 102,
   "id": "e90fb01b",
   "metadata": {},
   "outputs": [
    {
     "data": {
      "text/plain": [
       "0                       Western Europe\n",
       "1                       Western Europe\n",
       "2                       Western Europe\n",
       "3                       Western Europe\n",
       "4                        North America\n",
       "                    ...               \n",
       "153                 Sub-Saharan Africa\n",
       "154                 Sub-Saharan Africa\n",
       "155    Middle East and Northern Africa\n",
       "156                 Sub-Saharan Africa\n",
       "157                 Sub-Saharan Africa\n",
       "Name: Region, Length: 158, dtype: object"
      ]
     },
     "execution_count": 102,
     "metadata": {},
     "output_type": "execute_result"
    }
   ],
   "source": [
    "df['Region']"
   ]
  },
  {
   "cell_type": "code",
   "execution_count": 118,
   "id": "1eecdcab",
   "metadata": {},
   "outputs": [
    {
     "data": {
      "text/plain": [
       "0       Western\n",
       "1       Western\n",
       "2       Western\n",
       "3       Western\n",
       "4         North\n",
       "5       Western\n",
       "6       Western\n",
       "7       Western\n",
       "8     Australia\n",
       "9     Australia\n",
       "10       Middle\n",
       "11        Latin\n",
       "12      Western\n",
       "13        Latin\n",
       "14        North\n",
       "Name: Region, dtype: object"
      ]
     },
     "execution_count": 118,
     "metadata": {},
     "output_type": "execute_result"
    }
   ],
   "source": [
    "pattern = '(\\w+)'\n",
    "result = df['Region'].str.extract(pattern,expand=False)\n",
    "result.head(15)\n"
   ]
  },
  {
   "cell_type": "code",
   "execution_count": null,
   "id": "40b20bd8",
   "metadata": {},
   "outputs": [],
   "source": [
    "##Question 12- Write a Python program where a string will start with a specific number. "
   ]
  },
  {
   "cell_type": "code",
   "execution_count": 18,
   "id": "78363485",
   "metadata": {},
   "outputs": [
    {
     "data": {
      "text/html": [
       "<div>\n",
       "<style scoped>\n",
       "    .dataframe tbody tr th:only-of-type {\n",
       "        vertical-align: middle;\n",
       "    }\n",
       "\n",
       "    .dataframe tbody tr th {\n",
       "        vertical-align: top;\n",
       "    }\n",
       "\n",
       "    .dataframe thead th {\n",
       "        text-align: right;\n",
       "    }\n",
       "</style>\n",
       "<table border=\"1\" class=\"dataframe\">\n",
       "  <thead>\n",
       "    <tr style=\"text-align: right;\">\n",
       "      <th></th>\n",
       "      <th>Happiness Score</th>\n",
       "    </tr>\n",
       "  </thead>\n",
       "  <tbody>\n",
       "    <tr>\n",
       "      <th>0</th>\n",
       "      <td>2ndhighest</td>\n",
       "    </tr>\n",
       "    <tr>\n",
       "      <th>1</th>\n",
       "      <td>3rdhighest</td>\n",
       "    </tr>\n",
       "    <tr>\n",
       "      <th>2</th>\n",
       "      <td>4thhighest</td>\n",
       "    </tr>\n",
       "    <tr>\n",
       "      <th>3</th>\n",
       "      <td>3rdlowest</td>\n",
       "    </tr>\n",
       "    <tr>\n",
       "      <th>4</th>\n",
       "      <td>4thhighest</td>\n",
       "    </tr>\n",
       "  </tbody>\n",
       "</table>\n",
       "</div>"
      ],
      "text/plain": [
       "  Happiness Score\n",
       "0      2ndhighest\n",
       "1      3rdhighest\n",
       "2      4thhighest\n",
       "3       3rdlowest\n",
       "4      4thhighest"
      ]
     },
     "execution_count": 18,
     "metadata": {},
     "output_type": "execute_result"
    }
   ],
   "source": [
    "data ={'Happiness Score':['2ndhighest','3rdhighest','4thhighest','3rdlowest','4thhighest']}\n",
    "d2= pd.DataFrame(data)\n",
    "d2"
   ]
  },
  {
   "cell_type": "code",
   "execution_count": 38,
   "id": "300896a3",
   "metadata": {},
   "outputs": [
    {
     "data": {
      "text/html": [
       "<div>\n",
       "<style scoped>\n",
       "    .dataframe tbody tr th:only-of-type {\n",
       "        vertical-align: middle;\n",
       "    }\n",
       "\n",
       "    .dataframe tbody tr th {\n",
       "        vertical-align: top;\n",
       "    }\n",
       "\n",
       "    .dataframe thead th {\n",
       "        text-align: right;\n",
       "    }\n",
       "</style>\n",
       "<table border=\"1\" class=\"dataframe\">\n",
       "  <thead>\n",
       "    <tr style=\"text-align: right;\">\n",
       "      <th></th>\n",
       "      <th>Happiness Score</th>\n",
       "    </tr>\n",
       "  </thead>\n",
       "  <tbody>\n",
       "    <tr>\n",
       "      <th>1</th>\n",
       "      <td>3rdhighest</td>\n",
       "    </tr>\n",
       "    <tr>\n",
       "      <th>3</th>\n",
       "      <td>3rdlowest</td>\n",
       "    </tr>\n",
       "  </tbody>\n",
       "</table>\n",
       "</div>"
      ],
      "text/plain": [
       "  Happiness Score\n",
       "1      3rdhighest\n",
       "3       3rdlowest"
      ]
     },
     "execution_count": 38,
     "metadata": {},
     "output_type": "execute_result"
    }
   ],
   "source": [
    "pattern = r'^3\\w+'\n",
    "specific_num = d2['Happiness Score'].str.contains(pattern)\n",
    "d2[specific_num]"
   ]
  },
  {
   "cell_type": "code",
   "execution_count": null,
   "id": "ad8e9ead",
   "metadata": {},
   "outputs": [],
   "source": [
    "##Question 13- Write a Python program to remove leading zeros from an IP address"
   ]
  },
  {
   "cell_type": "code",
   "execution_count": 55,
   "id": "b96b353c",
   "metadata": {},
   "outputs": [
    {
     "name": "stdout",
     "output_type": "stream",
     "text": [
      "196.3.5.121.1.,111.34.23.4.,145.45.47.3.\n"
     ]
    }
   ],
   "source": [
    "ip = \"196.03.05.121.1.0,111.34.23.4.0,145.45.47.3.0\"\n",
    "result = re.sub('\\.[0]*','.',ip)\n",
    "print(result)"
   ]
  },
  {
   "cell_type": "raw",
   "id": "e6d71c62",
   "metadata": {},
   "source": [
    "Question 14- Write a regular expression in python to match a date string in the form of Month name followed by day number and year stored in a text file.\n",
    "Sample text :  ' On August 15th 1947 that India was declared independent from British colonialism, and the reins of control were handed over to the leaders of the Country’.\n",
    "Expected Output- August 15th 1947\n",
    "Note- Store given sample text in the text file and then extract the date string asked format.\n"
   ]
  },
  {
   "cell_type": "code",
   "execution_count": 59,
   "id": "064b371f",
   "metadata": {},
   "outputs": [],
   "source": []
  },
  {
   "cell_type": "code",
   "execution_count": null,
   "id": "c61e2044",
   "metadata": {},
   "outputs": [],
   "source": [
    "##Question 15- Write a Python program to search some literals strings in a string. \n",
    "Sample text : 'The quick brown fox jumps over the lazy dog.'\n",
    "Searched words : 'fox', 'dog', 'horse'\n"
   ]
  },
  {
   "cell_type": "code",
   "execution_count": 28,
   "id": "09bbcca8",
   "metadata": {},
   "outputs": [
    {
     "data": {
      "text/plain": [
       "['fox', 'dog']"
      ]
     },
     "execution_count": 28,
     "metadata": {},
     "output_type": "execute_result"
    }
   ],
   "source": [
    "pattern = \"fox|dog|horse\"\n",
    "string ='The quick brown fox jumps over the lazy dog.'\n",
    "result = re.findall(pattern, string)\n",
    "result"
   ]
  },
  {
   "cell_type": "code",
   "execution_count": null,
   "id": "75186282",
   "metadata": {},
   "outputs": [],
   "source": [
    "##Question 16- Write a Python program to search a literals string in a string and also find the location within the original string where the pattern occurs\n",
    "Sample text : 'The quick brown fox jumps over the lazy dog.'\n",
    "Searched words : 'fox'\n"
   ]
  },
  {
   "cell_type": "code",
   "execution_count": 61,
   "id": "3a598014",
   "metadata": {},
   "outputs": [
    {
     "name": "stdout",
     "output_type": "stream",
     "text": [
      "<re.Match object; span=(16, 19), match='fox'>\n",
      "fox\n"
     ]
    }
   ],
   "source": [
    "str ='The quick brown fox jumps over the lazy dog.'\n",
    "result = re.search(r'\\bfox\\b',str)\n",
    "print(result)\n",
    "print(result.group())"
   ]
  },
  {
   "cell_type": "code",
   "execution_count": null,
   "id": "98be4b15",
   "metadata": {},
   "outputs": [],
   "source": [
    "##Question 17- Write a Python program to find the substrings within a string.\n",
    "Sample text : 'Python exercises, PHP exercises, C# exercises'\n",
    "Pattern : 'exercises'.\n"
   ]
  },
  {
   "cell_type": "code",
   "execution_count": 62,
   "id": "9c19020c",
   "metadata": {},
   "outputs": [
    {
     "name": "stdout",
     "output_type": "stream",
     "text": [
      "<re.Match object; span=(7, 16), match='exercises'>\n"
     ]
    }
   ],
   "source": [
    "str1 ='Python exercises, PHP exercises, C# exercises'\n",
    "result = re.search(r'\\bexercises\\b',str1)\n",
    "print(result)"
   ]
  },
  {
   "cell_type": "code",
   "execution_count": null,
   "id": "2016304a",
   "metadata": {},
   "outputs": [],
   "source": [
    "##Question 18- Write a Python program to find the occurrence and position of the substrings within a string."
   ]
  },
  {
   "cell_type": "code",
   "execution_count": 63,
   "id": "36f57f0b",
   "metadata": {},
   "outputs": [
    {
     "name": "stdout",
     "output_type": "stream",
     "text": [
      "<re.Match object; span=(16, 19), match='fox'>\n",
      "fox\n"
     ]
    }
   ],
   "source": [
    "str ='The quick brown fox jumps over the lazy dog.'\n",
    "result = re.search(r'\\bfox\\b',str)\n",
    "print(result)\n",
    "print(result.group())"
   ]
  },
  {
   "cell_type": "raw",
   "id": "f01d7129",
   "metadata": {},
   "source": [
    "Question 19- Write a Python program to convert a date of yyyy-mm-dd format to dd-mm-yyyy format."
   ]
  },
  {
   "cell_type": "code",
   "execution_count": null,
   "id": "167cf60b",
   "metadata": {},
   "outputs": [],
   "source": []
  },
  {
   "cell_type": "code",
   "execution_count": null,
   "id": "f7733229",
   "metadata": {},
   "outputs": [],
   "source": [
    "##Question 20- Create a function in python to find all decimal numbers with a precision of 1 or 2 in a string. The use of the re.compile() method is mandatory.\n",
    "Sample Text: \"01.12 0132.123 2.31875 145.8 3.01 27.25 0.25\"\n",
    "Expected Output: ['01.12', '145.8', '3.01', '27.25', '0.25']\n"
   ]
  },
  {
   "cell_type": "code",
   "execution_count": 83,
   "id": "e26dbf35",
   "metadata": {},
   "outputs": [
    {
     "data": {
      "text/plain": [
       "['01.12']"
      ]
     },
     "execution_count": 83,
     "metadata": {},
     "output_type": "execute_result"
    }
   ],
   "source": [
    "text =\"01.12 0132.123 2.31875 145.8 3.01 27.25 0.25\"\n",
    "pattern=\"(^[0-9]+\\.[0-9]{1,2})\"\n",
    "r_pat = re.compile(pattern)\n",
    "result = r_pat.findall(text)\n",
    "result"
   ]
  },
  {
   "cell_type": "code",
   "execution_count": null,
   "id": "ad5daa93",
   "metadata": {},
   "outputs": [],
   "source": [
    "##Question 21- Write a Python program to separate and print the numbers and their position of a given string."
   ]
  },
  {
   "cell_type": "code",
   "execution_count": 85,
   "id": "15c6d905",
   "metadata": {},
   "outputs": [
    {
     "name": "stdout",
     "output_type": "stream",
     "text": [
      "<re.Match object; span=(40, 42), match='10'>\n",
      "<re.Match object; span=(67, 68), match='4'>\n"
     ]
    }
   ],
   "source": [
    "text = 'Create a function in python to find all 10 words that are at least 4 characters long in a string'\n",
    "result = re.finditer(r\"10|4\",text)\n",
    "for match_object in result:\n",
    "    print(match_object)"
   ]
  },
  {
   "cell_type": "raw",
   "id": "52b7cbc9",
   "metadata": {},
   "source": [
    "Question 22- Write a regular expression in python program to extract maximum/largest numeric value from a string.\n",
    "Sample Text:  'My marks in each semester are: 947, 896, 926, 524, 734, 950, 642'\n",
    "Expected Output: 950\n"
   ]
  },
  {
   "cell_type": "code",
   "execution_count": 147,
   "id": "90f5ed74",
   "metadata": {},
   "outputs": [],
   "source": [
    "\n",
    " "
   ]
  },
  {
   "cell_type": "raw",
   "id": "9174d35f",
   "metadata": {},
   "source": [
    "Question 23- Create a function in python to insert spaces between words starting with capital letters.\n",
    "Sample Text: “RegularExpressionIsAnImportantTopicInPython\"\n",
    "Expected Output: Regular Expression Is An Important Topic In Python\n"
   ]
  },
  {
   "cell_type": "code",
   "execution_count": null,
   "id": "04ccfd61",
   "metadata": {},
   "outputs": [],
   "source": []
  },
  {
   "cell_type": "raw",
   "id": "e1657d9c",
   "metadata": {},
   "source": [
    "Question 24- Python regex to find sequences of one upper case letter followed by lower case letters"
   ]
  },
  {
   "cell_type": "code",
   "execution_count": null,
   "id": "a849fee9",
   "metadata": {},
   "outputs": [],
   "source": []
  },
  {
   "cell_type": "code",
   "execution_count": null,
   "id": "56afc178",
   "metadata": {},
   "outputs": [],
   "source": [
    "##Question 25- Write a Python program to remove continuous duplicate words from Sentence using Regular Expression.\n",
    "Sample Text: \"Hello hello world world\"\n",
    "Expected Output: Hello hello world\n"
   ]
  },
  {
   "cell_type": "code",
   "execution_count": 142,
   "id": "fe2bc209",
   "metadata": {},
   "outputs": [
    {
     "name": "stdout",
     "output_type": "stream",
     "text": [
      "Hello hello world world\n"
     ]
    }
   ],
   "source": [
    "sample ='Hello hello world world'\n",
    "pattern = '\\b(\\w+)(?:\\W+\\1\\b)+'\n",
    "result = re.sub(pattern,'\\1',sample)\n",
    "print(result)"
   ]
  },
  {
   "cell_type": "raw",
   "id": "d7a52fa0",
   "metadata": {},
   "source": [
    "Question 26-  Write a python program using RegEx to accept string ending with alphanumeric character."
   ]
  },
  {
   "cell_type": "code",
   "execution_count": null,
   "id": "d7c714bb",
   "metadata": {},
   "outputs": [],
   "source": []
  },
  {
   "cell_type": "raw",
   "id": "3d4181e4",
   "metadata": {},
   "source": [
    "Question 27-Write a python program using RegEx to extract the hashtags.\n",
    "Sample Text:  \"\"\"RT @kapil_kausik: #Doltiwal I mean #xyzabc is \"hurt\" by #Demonetization as the same has rendered USELESS <ed><U+00A0><U+00BD><ed><U+00B1><U+0089> \"acquired funds\" No wo\"\"\"\n",
    "Expected Output: ['#Doltiwal', '#xyzabc', '#Demonetization']\n"
   ]
  },
  {
   "cell_type": "code",
   "execution_count": null,
   "id": "37f267d7",
   "metadata": {},
   "outputs": [],
   "source": []
  },
  {
   "cell_type": "raw",
   "id": "c8377227",
   "metadata": {},
   "source": [
    "Question 28- Write a python program using RegEx to remove <U+..> like symbols\n",
    "Check the below sample text, there are strange symbols something of the sort <U+..> all over the place. You need to come up with a general Regex expression that will cover all such symbols.\n",
    "Sample Text: \"@Jags123456 Bharat band on 28??<ed><U+00A0><U+00BD><ed><U+00B8><U+0082>Those who  are protesting #demonetization  are all different party leaders\"\n",
    "Expected Output: @Jags123456 Bharat band on 28??<ed><ed>Those who  are protesting #demonetization  are all different party leaders\n"
   ]
  },
  {
   "cell_type": "code",
   "execution_count": null,
   "id": "aa0de506",
   "metadata": {},
   "outputs": [],
   "source": []
  },
  {
   "cell_type": "raw",
   "id": "a7f6ffba",
   "metadata": {},
   "source": [
    "Question 29- Write a python program to extract dates from the text stored in the text file.\n",
    "Sample Text: Ron was born on 12-09-1992 and he was admitted to school 15-12-1999.\n",
    "Note- Store this sample text in the file and then extract dates.\n"
   ]
  },
  {
   "cell_type": "code",
   "execution_count": null,
   "id": "2bbb0498",
   "metadata": {},
   "outputs": [],
   "source": []
  },
  {
   "cell_type": "raw",
   "id": "9949788e",
   "metadata": {},
   "source": [
    "Question 30- Create a function in python to remove all words from a string of length between 2 and 4.\n",
    "The use of the re.compile() method is mandatory.\n",
    "Sample Text: \"The following example creates an ArrayList with a capacity of 50 elements. 4 elements are then added to the ArrayList and the ArrayList is trimmed accordingly.\"\n",
    "Expected Output:  following example creates ArrayList a capacity elements. 4 elements added ArrayList ArrayList trimmed accordingly.\n"
   ]
  },
  {
   "cell_type": "code",
   "execution_count": null,
   "id": "c9d2645e",
   "metadata": {},
   "outputs": [],
   "source": []
  }
 ],
 "metadata": {
  "kernelspec": {
   "display_name": "Python 3 (ipykernel)",
   "language": "python",
   "name": "python3"
  },
  "language_info": {
   "codemirror_mode": {
    "name": "ipython",
    "version": 3
   },
   "file_extension": ".py",
   "mimetype": "text/x-python",
   "name": "python",
   "nbconvert_exporter": "python",
   "pygments_lexer": "ipython3",
   "version": "3.11.5"
  }
 },
 "nbformat": 4,
 "nbformat_minor": 5
}
