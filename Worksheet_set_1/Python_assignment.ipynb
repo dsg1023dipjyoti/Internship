{
 "cells": [
  {
   "cell_type": "code",
   "execution_count": 47,
   "id": "f10b9a76",
   "metadata": {},
   "outputs": [],
   "source": [
    "#Write a python program to find the factorial of a numbe"
   ]
  },
  {
   "cell_type": "code",
   "execution_count": 1,
   "id": "4cb14a10",
   "metadata": {},
   "outputs": [
    {
     "name": "stdout",
     "output_type": "stream",
     "text": [
      "Enter a number: 6\n",
      "The factorial of 6 is 720\n"
     ]
    }
   ],
   "source": [
    "num = int(input(\"Enter a number: \"))    \n",
    "factorial = 1    \n",
    "if num == 0:    \n",
    "    print(\"The factorial of 0 is 1\")    \n",
    "else:    \n",
    "    for i in range(1,num + 1):    \n",
    "        factorial = factorial*i    \n",
    "    print(\"The factorial of\",num,\"is\",factorial) "
   ]
  },
  {
   "cell_type": "code",
   "execution_count": null,
   "id": "11895dc7",
   "metadata": {},
   "outputs": [],
   "source": [
    "#Write a python program to find whether a number is prime or composite."
   ]
  },
  {
   "cell_type": "code",
   "execution_count": 13,
   "id": "556897c7",
   "metadata": {},
   "outputs": [
    {
     "name": "stdout",
     "output_type": "stream",
     "text": [
      "Enter any number : 15\n",
      "15 is not a prime number\n"
     ]
    }
   ],
   "source": [
    "num = int(input(\"Enter any number : \"))\n",
    "if num > 1:\n",
    "    for i in range(2, num):\n",
    "        if (num % i) == 0:\n",
    "            print(num, \"is not a prime number\")\n",
    "            break\n",
    "    else:\n",
    "        print(num, \"is a prime number\")\n",
    "elif num == 0 or 1:\n",
    "    print(num, \"is a neither prime nor composite number\")\n",
    "\n",
    "else:\n",
    "    print(num, \"it is a composite number\")"
   ]
  },
  {
   "cell_type": "code",
   "execution_count": null,
   "id": "77ceb054",
   "metadata": {},
   "outputs": [],
   "source": [
    "#Write a python program to check whether a given string is palindrome or not."
   ]
  },
  {
   "cell_type": "code",
   "execution_count": 20,
   "id": "5c12f4b0",
   "metadata": {},
   "outputs": [
    {
     "name": "stdout",
     "output_type": "stream",
     "text": [
      "Enter the string to check if it is a palindrome: radar\n",
      "The string is a palindrome.\n"
     ]
    }
   ],
   "source": [
    "str_1 = input (\"Enter the string to check if it is a palindrome: \")\n",
    "\n",
    "str_1 = str_1.casefold ()\n",
    "\n",
    "rev_str = reversed (str_1)\n",
    "\n",
    "if list(str_1) == list (rev_str):\n",
    "\n",
    "    print (\"The string is a palindrome.\")\n",
    "\n",
    "else:\n",
    "\n",
    "    print (\"The string is not a palindrome.\")"
   ]
  },
  {
   "cell_type": "code",
   "execution_count": null,
   "id": "50711cfe",
   "metadata": {},
   "outputs": [],
   "source": [
    "# Write a Python program to get the third side of right-angled triangle from two given sides.\n",
    "# Write a python program to print the frequency of each of the characters present in a given string"
   ]
  },
  {
   "cell_type": "code",
   "execution_count": null,
   "id": "b6bba584",
   "metadata": {},
   "outputs": [],
   "source": []
  },
  {
   "cell_type": "code",
   "execution_count": null,
   "id": "cf14c6dd",
   "metadata": {},
   "outputs": [],
   "source": []
  },
  {
   "cell_type": "code",
   "execution_count": null,
   "id": "1a06ec0d",
   "metadata": {},
   "outputs": [],
   "source": []
  }
 ],
 "metadata": {
  "kernelspec": {
   "display_name": "Python 3 (ipykernel)",
   "language": "python",
   "name": "python3"
  },
  "language_info": {
   "codemirror_mode": {
    "name": "ipython",
    "version": 3
   },
   "file_extension": ".py",
   "mimetype": "text/x-python",
   "name": "python",
   "nbconvert_exporter": "python",
   "pygments_lexer": "ipython3",
   "version": "3.11.5"
  }
 },
 "nbformat": 4,
 "nbformat_minor": 5
}
